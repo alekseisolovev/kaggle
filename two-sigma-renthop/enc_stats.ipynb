{
 "cells": [
  {
   "cell_type": "markdown",
   "metadata": {},
   "source": [
    "## Encoding Categorical Variables Using Statistics\n",
    "[Source](https://www.kaggle.com/c/two-sigma-connect-rental-listing-inquiries/discussion/32123)"
   ]
  },
  {
   "cell_type": "code",
   "execution_count": 25,
   "metadata": {
    "collapsed": false
   },
   "outputs": [
    {
     "name": "stdout",
     "output_type": "stream",
     "text": [
      "(49352, 15)\n",
      "(74659, 14)\n"
     ]
    }
   ],
   "source": [
    "import pandas as pd\n",
    "import warnings\n",
    "warnings.filterwarnings('ignore')\n",
    "\n",
    "train = pd.read_json('train.json')\n",
    "test = pd.read_json('test.json')\n",
    "print(train.shape)\n",
    "print(test.shape)"
   ]
  },
  {
   "cell_type": "code",
   "execution_count": 26,
   "metadata": {
    "collapsed": true
   },
   "outputs": [],
   "source": [
    "train['row_id'] = range(train.shape[0])\n",
    "test['row_id'] = range(test.shape[0])\n",
    "train['train'] = 1\n",
    "test['train'] = 0"
   ]
  },
  {
   "cell_type": "code",
   "execution_count": 27,
   "metadata": {
    "collapsed": false
   },
   "outputs": [
    {
     "data": {
      "text/html": [
       "<div>\n",
       "<table border=\"1\" class=\"dataframe\">\n",
       "  <thead>\n",
       "    <tr style=\"text-align: right;\">\n",
       "      <th></th>\n",
       "      <th>row_id</th>\n",
       "      <th>train</th>\n",
       "      <th>price</th>\n",
       "      <th>manager_id</th>\n",
       "    </tr>\n",
       "  </thead>\n",
       "  <tbody>\n",
       "    <tr>\n",
       "      <th>10</th>\n",
       "      <td>0</td>\n",
       "      <td>1</td>\n",
       "      <td>3000</td>\n",
       "      <td>5ba989232d0489da1b5f2c45f6688adc</td>\n",
       "    </tr>\n",
       "    <tr>\n",
       "      <th>10000</th>\n",
       "      <td>1</td>\n",
       "      <td>1</td>\n",
       "      <td>5465</td>\n",
       "      <td>7533621a882f71e25173b27e3139d83d</td>\n",
       "    </tr>\n",
       "  </tbody>\n",
       "</table>\n",
       "</div>"
      ],
      "text/plain": [
       "       row_id  train  price                        manager_id\n",
       "10          0      1   3000  5ba989232d0489da1b5f2c45f6688adc\n",
       "10000       1      1   5465  7533621a882f71e25173b27e3139d83d"
      ]
     },
     "execution_count": 27,
     "metadata": {},
     "output_type": "execute_result"
    }
   ],
   "source": [
    "target_column = 'price'\n",
    "group_column = 'manager_id'\n",
    "\n",
    "data = train[['row_id', 'train', target_column, group_column]].append(\n",
    "    test[['row_id','train', target_column, group_column]])\n",
    "data.head(2)"
   ]
  },
  {
   "cell_type": "code",
   "execution_count": 28,
   "metadata": {
    "collapsed": false
   },
   "outputs": [
    {
     "data": {
      "text/plain": [
       "<pandas.core.groupby.DataFrameGroupBy object at 0x7fcbc2cd99b0>"
      ]
     },
     "execution_count": 28,
     "metadata": {},
     "output_type": "execute_result"
    }
   ],
   "source": [
    "grouped = data[[target_column, group_column]].groupby(group_column)\n",
    "grouped"
   ]
  },
  {
   "cell_type": "code",
   "execution_count": 29,
   "metadata": {
    "collapsed": false
   },
   "outputs": [
    {
     "data": {
      "text/plain": [
       "35"
      ]
     },
     "execution_count": 29,
     "metadata": {},
     "output_type": "execute_result"
    }
   ],
   "source": [
    "len(data.price[data.manager_id=='0000abd7518b94c35a90d64b56fbf3e6'])"
   ]
  },
  {
   "cell_type": "code",
   "execution_count": 30,
   "metadata": {
    "collapsed": false
   },
   "outputs": [
    {
     "data": {
      "text/html": [
       "<div>\n",
       "<table border=\"1\" class=\"dataframe\">\n",
       "  <thead>\n",
       "    <tr style=\"text-align: right;\">\n",
       "      <th></th>\n",
       "      <th>manager_id</th>\n",
       "      <th>price_size</th>\n",
       "    </tr>\n",
       "  </thead>\n",
       "  <tbody>\n",
       "    <tr>\n",
       "      <th>0</th>\n",
       "      <td>0000abd7518b94c35a90d64b56fbf3e6</td>\n",
       "      <td>35</td>\n",
       "    </tr>\n",
       "    <tr>\n",
       "      <th>1</th>\n",
       "      <td>001ce808ce1720e24a9510e014c69707</td>\n",
       "      <td>28</td>\n",
       "    </tr>\n",
       "  </tbody>\n",
       "</table>\n",
       "</div>"
      ],
      "text/plain": [
       "                         manager_id  price_size\n",
       "0  0000abd7518b94c35a90d64b56fbf3e6          35\n",
       "1  001ce808ce1720e24a9510e014c69707          28"
      ]
     },
     "execution_count": 30,
     "metadata": {},
     "output_type": "execute_result"
    }
   ],
   "source": [
    "the_size = pd.DataFrame(grouped.size()).reset_index()\n",
    "the_size.columns = [group_column, '%s_size' % target_column]\n",
    "the_size.head(2)"
   ]
  },
  {
   "cell_type": "code",
   "execution_count": 31,
   "metadata": {
    "collapsed": false
   },
   "outputs": [
    {
     "data": {
      "text/plain": [
       "2765.1714285714284"
      ]
     },
     "execution_count": 31,
     "metadata": {},
     "output_type": "execute_result"
    }
   ],
   "source": [
    "sum(data.price[data.manager_id=='0000abd7518b94c35a90d64b56fbf3e6']) / \\\n",
    "len(data.price[data.manager_id=='0000abd7518b94c35a90d64b56fbf3e6'])"
   ]
  },
  {
   "cell_type": "code",
   "execution_count": 32,
   "metadata": {
    "collapsed": false
   },
   "outputs": [
    {
     "data": {
      "text/html": [
       "<div>\n",
       "<table border=\"1\" class=\"dataframe\">\n",
       "  <thead>\n",
       "    <tr style=\"text-align: right;\">\n",
       "      <th></th>\n",
       "      <th>manager_id</th>\n",
       "      <th>price_mean</th>\n",
       "    </tr>\n",
       "  </thead>\n",
       "  <tbody>\n",
       "    <tr>\n",
       "      <th>0</th>\n",
       "      <td>0000abd7518b94c35a90d64b56fbf3e6</td>\n",
       "      <td>2765.171429</td>\n",
       "    </tr>\n",
       "    <tr>\n",
       "      <th>1</th>\n",
       "      <td>001ce808ce1720e24a9510e014c69707</td>\n",
       "      <td>3170.535714</td>\n",
       "    </tr>\n",
       "  </tbody>\n",
       "</table>\n",
       "</div>"
      ],
      "text/plain": [
       "                         manager_id   price_mean\n",
       "0  0000abd7518b94c35a90d64b56fbf3e6  2765.171429\n",
       "1  001ce808ce1720e24a9510e014c69707  3170.535714"
      ]
     },
     "execution_count": 32,
     "metadata": {},
     "output_type": "execute_result"
    }
   ],
   "source": [
    "the_mean = pd.DataFrame(grouped.mean()).reset_index()\n",
    "the_mean.columns = [group_column, '%s_mean' % target_column]\n",
    "the_mean.head(2)"
   ]
  },
  {
   "cell_type": "code",
   "execution_count": 33,
   "metadata": {
    "collapsed": false
   },
   "outputs": [],
   "source": [
    "the_std = pd.DataFrame(grouped.std()).reset_index().fillna(0)\n",
    "the_std.columns = [group_column, '%s_std' % target_column]\n",
    "the_median = pd.DataFrame(grouped.median()).reset_index()\n",
    "the_median.columns = [group_column, '%s_median' % target_column]\n",
    "the_max = pd.DataFrame(grouped.max()).reset_index()\n",
    "the_max.columns = [group_column, '%s_max' % target_column]\n",
    "the_min = pd.DataFrame(grouped.min()).reset_index()\n",
    "the_min.columns = [group_column, '%s_min' % target_column]"
   ]
  },
  {
   "cell_type": "code",
   "execution_count": 34,
   "metadata": {
    "collapsed": false
   },
   "outputs": [
    {
     "data": {
      "text/html": [
       "<div>\n",
       "<table border=\"1\" class=\"dataframe\">\n",
       "  <thead>\n",
       "    <tr style=\"text-align: right;\">\n",
       "      <th></th>\n",
       "      <th>manager_id</th>\n",
       "      <th>price_size</th>\n",
       "      <th>price_mean</th>\n",
       "      <th>price_std</th>\n",
       "      <th>price_median</th>\n",
       "      <th>price_max</th>\n",
       "      <th>price_min</th>\n",
       "    </tr>\n",
       "  </thead>\n",
       "  <tbody>\n",
       "    <tr>\n",
       "      <th>0</th>\n",
       "      <td>0000abd7518b94c35a90d64b56fbf3e6</td>\n",
       "      <td>35</td>\n",
       "      <td>2765.171429</td>\n",
       "      <td>532.174976</td>\n",
       "      <td>2695.0</td>\n",
       "      <td>4295</td>\n",
       "      <td>1995</td>\n",
       "    </tr>\n",
       "    <tr>\n",
       "      <th>1</th>\n",
       "      <td>001ce808ce1720e24a9510e014c69707</td>\n",
       "      <td>28</td>\n",
       "      <td>3170.535714</td>\n",
       "      <td>1116.447192</td>\n",
       "      <td>3000.0</td>\n",
       "      <td>6495</td>\n",
       "      <td>1795</td>\n",
       "    </tr>\n",
       "  </tbody>\n",
       "</table>\n",
       "</div>"
      ],
      "text/plain": [
       "                         manager_id  price_size   price_mean    price_std  \\\n",
       "0  0000abd7518b94c35a90d64b56fbf3e6          35  2765.171429   532.174976   \n",
       "1  001ce808ce1720e24a9510e014c69707          28  3170.535714  1116.447192   \n",
       "\n",
       "   price_median  price_max  price_min  \n",
       "0        2695.0       4295       1995  \n",
       "1        3000.0       6495       1795  "
      ]
     },
     "execution_count": 34,
     "metadata": {},
     "output_type": "execute_result"
    }
   ],
   "source": [
    "the_stats = pd.merge(the_size, the_mean).merge(the_std).merge(the_median).merge(the_max).merge(the_min)\n",
    "the_stats.head(2)"
   ]
  },
  {
   "cell_type": "code",
   "execution_count": 35,
   "metadata": {
    "collapsed": false
   },
   "outputs": [
    {
     "name": "stdout",
     "output_type": "stream",
     "text": [
      "(4399, 7)\n",
      "(124011, 4)\n"
     ]
    }
   ],
   "source": [
    "print(the_stats.shape)\n",
    "print(data.shape)"
   ]
  },
  {
   "cell_type": "code",
   "execution_count": 36,
   "metadata": {
    "collapsed": false
   },
   "outputs": [
    {
     "data": {
      "text/html": [
       "<div>\n",
       "<table border=\"1\" class=\"dataframe\">\n",
       "  <thead>\n",
       "    <tr style=\"text-align: right;\">\n",
       "      <th></th>\n",
       "      <th>row_id</th>\n",
       "      <th>train</th>\n",
       "      <th>price</th>\n",
       "      <th>manager_id</th>\n",
       "      <th>price_size</th>\n",
       "      <th>price_mean</th>\n",
       "      <th>price_std</th>\n",
       "      <th>price_median</th>\n",
       "      <th>price_max</th>\n",
       "      <th>price_min</th>\n",
       "    </tr>\n",
       "  </thead>\n",
       "  <tbody>\n",
       "    <tr>\n",
       "      <th>0</th>\n",
       "      <td>0</td>\n",
       "      <td>1</td>\n",
       "      <td>3000</td>\n",
       "      <td>5ba989232d0489da1b5f2c45f6688adc</td>\n",
       "      <td>235</td>\n",
       "      <td>2541.914894</td>\n",
       "      <td>524.703572</td>\n",
       "      <td>2600.0</td>\n",
       "      <td>4400</td>\n",
       "      <td>1700</td>\n",
       "    </tr>\n",
       "    <tr>\n",
       "      <th>1</th>\n",
       "      <td>107</td>\n",
       "      <td>1</td>\n",
       "      <td>2250</td>\n",
       "      <td>5ba989232d0489da1b5f2c45f6688adc</td>\n",
       "      <td>235</td>\n",
       "      <td>2541.914894</td>\n",
       "      <td>524.703572</td>\n",
       "      <td>2600.0</td>\n",
       "      <td>4400</td>\n",
       "      <td>1700</td>\n",
       "    </tr>\n",
       "    <tr>\n",
       "      <th>2</th>\n",
       "      <td>152</td>\n",
       "      <td>1</td>\n",
       "      <td>2200</td>\n",
       "      <td>5ba989232d0489da1b5f2c45f6688adc</td>\n",
       "      <td>235</td>\n",
       "      <td>2541.914894</td>\n",
       "      <td>524.703572</td>\n",
       "      <td>2600.0</td>\n",
       "      <td>4400</td>\n",
       "      <td>1700</td>\n",
       "    </tr>\n",
       "    <tr>\n",
       "      <th>3</th>\n",
       "      <td>572</td>\n",
       "      <td>1</td>\n",
       "      <td>1950</td>\n",
       "      <td>5ba989232d0489da1b5f2c45f6688adc</td>\n",
       "      <td>235</td>\n",
       "      <td>2541.914894</td>\n",
       "      <td>524.703572</td>\n",
       "      <td>2600.0</td>\n",
       "      <td>4400</td>\n",
       "      <td>1700</td>\n",
       "    </tr>\n",
       "    <tr>\n",
       "      <th>4</th>\n",
       "      <td>1198</td>\n",
       "      <td>1</td>\n",
       "      <td>2000</td>\n",
       "      <td>5ba989232d0489da1b5f2c45f6688adc</td>\n",
       "      <td>235</td>\n",
       "      <td>2541.914894</td>\n",
       "      <td>524.703572</td>\n",
       "      <td>2600.0</td>\n",
       "      <td>4400</td>\n",
       "      <td>1700</td>\n",
       "    </tr>\n",
       "  </tbody>\n",
       "</table>\n",
       "</div>"
      ],
      "text/plain": [
       "   row_id  train  price                        manager_id  price_size  \\\n",
       "0       0      1   3000  5ba989232d0489da1b5f2c45f6688adc         235   \n",
       "1     107      1   2250  5ba989232d0489da1b5f2c45f6688adc         235   \n",
       "2     152      1   2200  5ba989232d0489da1b5f2c45f6688adc         235   \n",
       "3     572      1   1950  5ba989232d0489da1b5f2c45f6688adc         235   \n",
       "4    1198      1   2000  5ba989232d0489da1b5f2c45f6688adc         235   \n",
       "\n",
       "    price_mean   price_std  price_median  price_max  price_min  \n",
       "0  2541.914894  524.703572        2600.0       4400       1700  \n",
       "1  2541.914894  524.703572        2600.0       4400       1700  \n",
       "2  2541.914894  524.703572        2600.0       4400       1700  \n",
       "3  2541.914894  524.703572        2600.0       4400       1700  \n",
       "4  2541.914894  524.703572        2600.0       4400       1700  "
      ]
     },
     "execution_count": 36,
     "metadata": {},
     "output_type": "execute_result"
    }
   ],
   "source": [
    "data = pd.merge(data, the_stats)\n",
    "data.head()"
   ]
  },
  {
   "cell_type": "code",
   "execution_count": 37,
   "metadata": {
    "collapsed": false
   },
   "outputs": [
    {
     "name": "stdout",
     "output_type": "stream",
     "text": [
      "(49352, 10)\n",
      "(74659, 10)\n"
     ]
    }
   ],
   "source": [
    "selected_train = data[data['train'] == 1]\n",
    "selected_test = data[data['train'] == 0]\n",
    "print(selected_train.shape)\n",
    "print(selected_test.shape)"
   ]
  },
  {
   "cell_type": "code",
   "execution_count": 38,
   "metadata": {
    "collapsed": true
   },
   "outputs": [],
   "source": [
    "selected_train.sort_values('row_id', inplace=True)\n",
    "selected_test.sort_values('row_id', inplace=True)"
   ]
  },
  {
   "cell_type": "code",
   "execution_count": 39,
   "metadata": {
    "collapsed": false
   },
   "outputs": [
    {
     "data": {
      "text/html": [
       "<div>\n",
       "<table border=\"1\" class=\"dataframe\">\n",
       "  <thead>\n",
       "    <tr style=\"text-align: right;\">\n",
       "      <th></th>\n",
       "      <th>row_id</th>\n",
       "      <th>train</th>\n",
       "      <th>price</th>\n",
       "      <th>manager_id</th>\n",
       "      <th>price_size</th>\n",
       "      <th>price_mean</th>\n",
       "      <th>price_std</th>\n",
       "      <th>price_median</th>\n",
       "      <th>price_max</th>\n",
       "      <th>price_min</th>\n",
       "    </tr>\n",
       "  </thead>\n",
       "  <tbody>\n",
       "    <tr>\n",
       "      <th>0</th>\n",
       "      <td>0</td>\n",
       "      <td>1</td>\n",
       "      <td>3000</td>\n",
       "      <td>5ba989232d0489da1b5f2c45f6688adc</td>\n",
       "      <td>235</td>\n",
       "      <td>2541.914894</td>\n",
       "      <td>524.703572</td>\n",
       "      <td>2600.0</td>\n",
       "      <td>4400</td>\n",
       "      <td>1700</td>\n",
       "    </tr>\n",
       "    <tr>\n",
       "      <th>235</th>\n",
       "      <td>1</td>\n",
       "      <td>1</td>\n",
       "      <td>5465</td>\n",
       "      <td>7533621a882f71e25173b27e3139d83d</td>\n",
       "      <td>194</td>\n",
       "      <td>5419.932990</td>\n",
       "      <td>1905.188512</td>\n",
       "      <td>4700.0</td>\n",
       "      <td>12995</td>\n",
       "      <td>1995</td>\n",
       "    </tr>\n",
       "    <tr>\n",
       "      <th>429</th>\n",
       "      <td>2</td>\n",
       "      <td>1</td>\n",
       "      <td>2850</td>\n",
       "      <td>d9039c43983f6e564b1482b273bd7b01</td>\n",
       "      <td>314</td>\n",
       "      <td>3618.716561</td>\n",
       "      <td>1318.133209</td>\n",
       "      <td>3295.0</td>\n",
       "      <td>8795</td>\n",
       "      <td>1650</td>\n",
       "    </tr>\n",
       "    <tr>\n",
       "      <th>743</th>\n",
       "      <td>3</td>\n",
       "      <td>1</td>\n",
       "      <td>3275</td>\n",
       "      <td>1067e078446a7897d2da493d2f741316</td>\n",
       "      <td>470</td>\n",
       "      <td>3701.768085</td>\n",
       "      <td>1392.090938</td>\n",
       "      <td>3450.0</td>\n",
       "      <td>11100</td>\n",
       "      <td>1650</td>\n",
       "    </tr>\n",
       "    <tr>\n",
       "      <th>1213</th>\n",
       "      <td>4</td>\n",
       "      <td>1</td>\n",
       "      <td>3350</td>\n",
       "      <td>98e13ad4b495b9613cef886d79a6291f</td>\n",
       "      <td>51</td>\n",
       "      <td>3114.901961</td>\n",
       "      <td>1328.458765</td>\n",
       "      <td>2870.0</td>\n",
       "      <td>7995</td>\n",
       "      <td>1495</td>\n",
       "    </tr>\n",
       "  </tbody>\n",
       "</table>\n",
       "</div>"
      ],
      "text/plain": [
       "      row_id  train  price                        manager_id  price_size  \\\n",
       "0          0      1   3000  5ba989232d0489da1b5f2c45f6688adc         235   \n",
       "235        1      1   5465  7533621a882f71e25173b27e3139d83d         194   \n",
       "429        2      1   2850  d9039c43983f6e564b1482b273bd7b01         314   \n",
       "743        3      1   3275  1067e078446a7897d2da493d2f741316         470   \n",
       "1213       4      1   3350  98e13ad4b495b9613cef886d79a6291f          51   \n",
       "\n",
       "       price_mean    price_std  price_median  price_max  price_min  \n",
       "0     2541.914894   524.703572        2600.0       4400       1700  \n",
       "235   5419.932990  1905.188512        4700.0      12995       1995  \n",
       "429   3618.716561  1318.133209        3295.0       8795       1650  \n",
       "743   3701.768085  1392.090938        3450.0      11100       1650  \n",
       "1213  3114.901961  1328.458765        2870.0       7995       1495  "
      ]
     },
     "execution_count": 39,
     "metadata": {},
     "output_type": "execute_result"
    }
   ],
   "source": [
    "selected_train.head()"
   ]
  },
  {
   "cell_type": "code",
   "execution_count": 40,
   "metadata": {
    "collapsed": false
   },
   "outputs": [
    {
     "data": {
      "text/html": [
       "<div>\n",
       "<table border=\"1\" class=\"dataframe\">\n",
       "  <thead>\n",
       "    <tr style=\"text-align: right;\">\n",
       "      <th></th>\n",
       "      <th>manager_id</th>\n",
       "      <th>interest_level</th>\n",
       "    </tr>\n",
       "  </thead>\n",
       "  <tbody>\n",
       "    <tr>\n",
       "      <th>10</th>\n",
       "      <td>5ba989232d0489da1b5f2c45f6688adc</td>\n",
       "      <td>medium</td>\n",
       "    </tr>\n",
       "    <tr>\n",
       "      <th>10000</th>\n",
       "      <td>7533621a882f71e25173b27e3139d83d</td>\n",
       "      <td>low</td>\n",
       "    </tr>\n",
       "    <tr>\n",
       "      <th>100004</th>\n",
       "      <td>d9039c43983f6e564b1482b273bd7b01</td>\n",
       "      <td>high</td>\n",
       "    </tr>\n",
       "    <tr>\n",
       "      <th>100007</th>\n",
       "      <td>1067e078446a7897d2da493d2f741316</td>\n",
       "      <td>low</td>\n",
       "    </tr>\n",
       "    <tr>\n",
       "      <th>100013</th>\n",
       "      <td>98e13ad4b495b9613cef886d79a6291f</td>\n",
       "      <td>low</td>\n",
       "    </tr>\n",
       "  </tbody>\n",
       "</table>\n",
       "</div>"
      ],
      "text/plain": [
       "                              manager_id interest_level\n",
       "10      5ba989232d0489da1b5f2c45f6688adc         medium\n",
       "10000   7533621a882f71e25173b27e3139d83d            low\n",
       "100004  d9039c43983f6e564b1482b273bd7b01           high\n",
       "100007  1067e078446a7897d2da493d2f741316            low\n",
       "100013  98e13ad4b495b9613cef886d79a6291f            low"
      ]
     },
     "execution_count": 40,
     "metadata": {},
     "output_type": "execute_result"
    }
   ],
   "source": [
    "train[['manager_id', 'interest_level']].head()"
   ]
  },
  {
   "cell_type": "code",
   "execution_count": 17,
   "metadata": {
    "collapsed": false
   },
   "outputs": [],
   "source": [
    "selected_train.drop([target_column, group_column, 'row_id', 'train'], axis=1, inplace=True)\n",
    "selected_test.drop([target_column, group_column, 'row_id', 'train'], axis=1, inplace=True)"
   ]
  },
  {
   "cell_type": "code",
   "execution_count": 18,
   "metadata": {
    "collapsed": false
   },
   "outputs": [],
   "source": [
    "train.reset_index(drop=True, inplace=True)\n",
    "test.reset_index(drop=True, inplace=True)\n",
    "selected_train.reset_index(drop=True, inplace=True)\n",
    "selected_test.reset_index(drop=True, inplace=True)"
   ]
  },
  {
   "cell_type": "code",
   "execution_count": 19,
   "metadata": {
    "collapsed": false
   },
   "outputs": [
    {
     "data": {
      "text/html": [
       "<div>\n",
       "<table border=\"1\" class=\"dataframe\">\n",
       "  <thead>\n",
       "    <tr style=\"text-align: right;\">\n",
       "      <th></th>\n",
       "      <th>price_size</th>\n",
       "      <th>price_mean</th>\n",
       "      <th>price_std</th>\n",
       "      <th>price_median</th>\n",
       "      <th>price_max</th>\n",
       "      <th>price_min</th>\n",
       "    </tr>\n",
       "  </thead>\n",
       "  <tbody>\n",
       "    <tr>\n",
       "      <th>0</th>\n",
       "      <td>235</td>\n",
       "      <td>2541.914894</td>\n",
       "      <td>524.703572</td>\n",
       "      <td>2600.0</td>\n",
       "      <td>4400</td>\n",
       "      <td>1700</td>\n",
       "    </tr>\n",
       "    <tr>\n",
       "      <th>1</th>\n",
       "      <td>194</td>\n",
       "      <td>5419.932990</td>\n",
       "      <td>1905.188512</td>\n",
       "      <td>4700.0</td>\n",
       "      <td>12995</td>\n",
       "      <td>1995</td>\n",
       "    </tr>\n",
       "    <tr>\n",
       "      <th>2</th>\n",
       "      <td>314</td>\n",
       "      <td>3618.716561</td>\n",
       "      <td>1318.133209</td>\n",
       "      <td>3295.0</td>\n",
       "      <td>8795</td>\n",
       "      <td>1650</td>\n",
       "    </tr>\n",
       "    <tr>\n",
       "      <th>3</th>\n",
       "      <td>470</td>\n",
       "      <td>3701.768085</td>\n",
       "      <td>1392.090938</td>\n",
       "      <td>3450.0</td>\n",
       "      <td>11100</td>\n",
       "      <td>1650</td>\n",
       "    </tr>\n",
       "    <tr>\n",
       "      <th>4</th>\n",
       "      <td>51</td>\n",
       "      <td>3114.901961</td>\n",
       "      <td>1328.458765</td>\n",
       "      <td>2870.0</td>\n",
       "      <td>7995</td>\n",
       "      <td>1495</td>\n",
       "    </tr>\n",
       "  </tbody>\n",
       "</table>\n",
       "</div>"
      ],
      "text/plain": [
       "   price_size   price_mean    price_std  price_median  price_max  price_min\n",
       "0         235  2541.914894   524.703572        2600.0       4400       1700\n",
       "1         194  5419.932990  1905.188512        4700.0      12995       1995\n",
       "2         314  3618.716561  1318.133209        3295.0       8795       1650\n",
       "3         470  3701.768085  1392.090938        3450.0      11100       1650\n",
       "4          51  3114.901961  1328.458765        2870.0       7995       1495"
      ]
     },
     "execution_count": 19,
     "metadata": {},
     "output_type": "execute_result"
    }
   ],
   "source": [
    "selected_train.head()"
   ]
  },
  {
   "cell_type": "code",
   "execution_count": 20,
   "metadata": {
    "collapsed": false
   },
   "outputs": [
    {
     "data": {
      "text/plain": [
       "(49352, 6)"
      ]
     },
     "execution_count": 20,
     "metadata": {},
     "output_type": "execute_result"
    }
   ],
   "source": [
    "selected_train.shape"
   ]
  },
  {
   "cell_type": "code",
   "execution_count": 21,
   "metadata": {
    "collapsed": false
   },
   "outputs": [
    {
     "data": {
      "text/plain": [
       "(74659, 6)"
      ]
     },
     "execution_count": 21,
     "metadata": {},
     "output_type": "execute_result"
    }
   ],
   "source": [
    "selected_test.shape"
   ]
  },
  {
   "cell_type": "code",
   "execution_count": 24,
   "metadata": {
    "collapsed": false
   },
   "outputs": [
    {
     "data": {
      "text/html": [
       "<div>\n",
       "<table border=\"1\" class=\"dataframe\">\n",
       "  <thead>\n",
       "    <tr style=\"text-align: right;\">\n",
       "      <th></th>\n",
       "      <th>bathrooms</th>\n",
       "      <th>bedrooms</th>\n",
       "      <th>building_id</th>\n",
       "      <th>created</th>\n",
       "      <th>description</th>\n",
       "      <th>display_address</th>\n",
       "      <th>features</th>\n",
       "      <th>interest_level</th>\n",
       "      <th>latitude</th>\n",
       "      <th>listing_id</th>\n",
       "      <th>longitude</th>\n",
       "      <th>manager_id</th>\n",
       "      <th>photos</th>\n",
       "      <th>price</th>\n",
       "      <th>street_address</th>\n",
       "      <th>row_id</th>\n",
       "      <th>train</th>\n",
       "    </tr>\n",
       "  </thead>\n",
       "  <tbody>\n",
       "    <tr>\n",
       "      <th>0</th>\n",
       "      <td>1.5</td>\n",
       "      <td>3</td>\n",
       "      <td>53a5b119ba8f7b61d4e010512e0dfc85</td>\n",
       "      <td>2016-06-24 07:54:24</td>\n",
       "      <td>A Brand New 3 Bedroom 1.5 bath ApartmentEnjoy ...</td>\n",
       "      <td>Metropolitan Avenue</td>\n",
       "      <td>[]</td>\n",
       "      <td>medium</td>\n",
       "      <td>40.7145</td>\n",
       "      <td>7211212</td>\n",
       "      <td>-73.9425</td>\n",
       "      <td>5ba989232d0489da1b5f2c45f6688adc</td>\n",
       "      <td>[https://photos.renthop.com/2/7211212_1ed4542e...</td>\n",
       "      <td>3000</td>\n",
       "      <td>792 Metropolitan Avenue</td>\n",
       "      <td>0</td>\n",
       "      <td>1</td>\n",
       "    </tr>\n",
       "    <tr>\n",
       "      <th>1</th>\n",
       "      <td>1.0</td>\n",
       "      <td>2</td>\n",
       "      <td>c5c8a357cba207596b04d1afd1e4f130</td>\n",
       "      <td>2016-06-12 12:19:27</td>\n",
       "      <td></td>\n",
       "      <td>Columbus Avenue</td>\n",
       "      <td>[Doorman, Elevator, Fitness Center, Cats Allow...</td>\n",
       "      <td>low</td>\n",
       "      <td>40.7947</td>\n",
       "      <td>7150865</td>\n",
       "      <td>-73.9667</td>\n",
       "      <td>7533621a882f71e25173b27e3139d83d</td>\n",
       "      <td>[https://photos.renthop.com/2/7150865_be3306c5...</td>\n",
       "      <td>5465</td>\n",
       "      <td>808 Columbus Avenue</td>\n",
       "      <td>1</td>\n",
       "      <td>1</td>\n",
       "    </tr>\n",
       "  </tbody>\n",
       "</table>\n",
       "</div>"
      ],
      "text/plain": [
       "   bathrooms  bedrooms                       building_id              created  \\\n",
       "0        1.5         3  53a5b119ba8f7b61d4e010512e0dfc85  2016-06-24 07:54:24   \n",
       "1        1.0         2  c5c8a357cba207596b04d1afd1e4f130  2016-06-12 12:19:27   \n",
       "\n",
       "                                         description      display_address  \\\n",
       "0  A Brand New 3 Bedroom 1.5 bath ApartmentEnjoy ...  Metropolitan Avenue   \n",
       "1                                                         Columbus Avenue   \n",
       "\n",
       "                                            features interest_level  latitude  \\\n",
       "0                                                 []         medium   40.7145   \n",
       "1  [Doorman, Elevator, Fitness Center, Cats Allow...            low   40.7947   \n",
       "\n",
       "   listing_id  longitude                        manager_id  \\\n",
       "0     7211212   -73.9425  5ba989232d0489da1b5f2c45f6688adc   \n",
       "1     7150865   -73.9667  7533621a882f71e25173b27e3139d83d   \n",
       "\n",
       "                                              photos  price  \\\n",
       "0  [https://photos.renthop.com/2/7211212_1ed4542e...   3000   \n",
       "1  [https://photos.renthop.com/2/7150865_be3306c5...   5465   \n",
       "\n",
       "            street_address  row_id  train  \n",
       "0  792 Metropolitan Avenue       0      1  \n",
       "1      808 Columbus Avenue       1      1  "
      ]
     },
     "execution_count": 24,
     "metadata": {},
     "output_type": "execute_result"
    }
   ],
   "source": [
    "train.head(2)"
   ]
  },
  {
   "cell_type": "code",
   "execution_count": 22,
   "metadata": {
    "collapsed": false
   },
   "outputs": [
    {
     "data": {
      "text/plain": [
       "(49352, 23)"
      ]
     },
     "execution_count": 22,
     "metadata": {},
     "output_type": "execute_result"
    }
   ],
   "source": [
    "X_train = pd.merge(train, selected_train, left_index=True, right_index=True)\n",
    "X_train.shape"
   ]
  },
  {
   "cell_type": "code",
   "execution_count": null,
   "metadata": {
    "collapsed": true
   },
   "outputs": [],
   "source": [
    "#Identify top features using a basic XGBoost\n",
    "# I'd like to thank this from \n",
    "#https://www.kaggle.com/sudalairajkumar/sberbank-russian-housing-market/simple-exploration-notebook-sberbank\n",
    "#It helped me to understand a simple way to build my feature importance\n",
    "for f in train_data:\n",
    "    if train_data[f].dtype == \"object\":\n",
    "        lbl=pre.LabelEncoder()\n",
    "        lbl.fit(list(train_data[f].values))\n",
    "        train_data[f]=lbl.transform(list(train_data[f].values))\n",
    "\n",
    "xgb_params = {\n",
    "    'eta': 0.05,\n",
    "    'max_depth': 8,\n",
    "    'subsample': 0.7,\n",
    "    'colsample_bytree': 0.7,\n",
    "    'objective': 'reg:linear',\n",
    "    'eval_metric': 'rmse',\n",
    "    'silent': 1\n",
    "}\n",
    "\n",
    "y_train = train_data[\"price_doc\"]\n",
    "x_train = train_data.drop([\"id\",\"timestamp\",\"price_doc\"],axis = 1)\n",
    "dtrain = xgb.DMatrix(x_train,y_train,feature_names = x_train.columns.values)\n",
    "model = xgb.train(dict(xgb_params,silent=0),dtrain,num_boost_round=100)\n",
    "\n",
    "fig,ax=plt.subplots(figsize = (12,18))\n",
    "xgb.plot_importance(model, max_num_features=50, height=0.8, ax=ax)\n",
    "plt.show"
   ]
  },
  {
   "cell_type": "code",
   "execution_count": null,
   "metadata": {
    "collapsed": true
   },
   "outputs": [],
   "source": []
  },
  {
   "cell_type": "code",
   "execution_count": null,
   "metadata": {
    "collapsed": true
   },
   "outputs": [],
   "source": []
  },
  {
   "cell_type": "code",
   "execution_count": null,
   "metadata": {
    "collapsed": true
   },
   "outputs": [],
   "source": []
  },
  {
   "cell_type": "code",
   "execution_count": null,
   "metadata": {
    "collapsed": true
   },
   "outputs": [],
   "source": []
  },
  {
   "cell_type": "code",
   "execution_count": 1,
   "metadata": {
    "collapsed": true
   },
   "outputs": [],
   "source": [
    "import numpy as np\n",
    "import pandas as pd\n",
    "\n",
    "import warnings\n",
    "warnings.filterwarnings('ignore')\n",
    "\n",
    "train = pd.read_json('train.json')\n",
    "test = pd.read_json('test.json')"
   ]
  },
  {
   "cell_type": "code",
   "execution_count": 9,
   "metadata": {
    "collapsed": true
   },
   "outputs": [],
   "source": [
    "def get_stats(train, test, target_column, group_column='manager_id'):\n",
    "    '''\n",
    "    target_column: numeric columns to group with (e.g. price, bedrooms, bathrooms)\n",
    "    group_column: categorical columns to group on (e.g. manager_id, building_id)\n",
    "    '''\n",
    "    train['row_id'] = range(train.shape[0])\n",
    "    test['row_id'] = range(test.shape[0])\n",
    "    train['train'] = 1\n",
    "    test['train'] = 0\n",
    "    data = train[['row_id', 'train', target_column, group_column]].append(\n",
    "        test[['row_id','train', target_column, group_column]])\n",
    "    \n",
    "    grouped = data[[target_column, group_column]].groupby(group_column)\n",
    "    the_size = pd.DataFrame(grouped.size()).reset_index()\n",
    "    the_size.columns = [group_column, '%s_size' % target_column]\n",
    "    the_mean = pd.DataFrame(grouped.mean()).reset_index()\n",
    "    the_mean.columns = [group_column, '%s_mean' % target_column]\n",
    "    the_std = pd.DataFrame(grouped.std()).reset_index().fillna(0)\n",
    "    the_std.columns = [group_column, '%s_std' % target_column]\n",
    "    the_median = pd.DataFrame(grouped.median()).reset_index()\n",
    "    the_median.columns = [group_column, '%s_median' % target_column]\n",
    "    the_max = pd.DataFrame(grouped.max()).reset_index()\n",
    "    the_max.columns = [group_column, '%s_max' % target_column]\n",
    "    the_min = pd.DataFrame(grouped.min()).reset_index()\n",
    "    the_min.columns = [group_column, '%s_min' % target_column]\n",
    "    \n",
    "    the_stats = pd.merge(\n",
    "        the_size, the_mean).merge(the_std).merge(the_median).merge(the_max).merge(the_min)\n",
    "\n",
    "    data = pd.merge(data, the_stats)\n",
    "\n",
    "    selected_train = data[data['train'] == 1]\n",
    "    selected_test = data[data['train'] == 0]\n",
    "    selected_train.sort_values('row_id', inplace=True)\n",
    "    selected_test.sort_values('row_id', inplace=True)\n",
    "    selected_train.drop([target_column, 'row_id', 'train'], axis=1, inplace=True)\n",
    "    selected_test.drop([target_column, 'row_id', 'train'], axis=1, inplace=True)\n",
    "\n",
    "    return selected_train, selected_test"
   ]
  },
  {
   "cell_type": "code",
   "execution_count": 10,
   "metadata": {
    "collapsed": false
   },
   "outputs": [],
   "source": [
    "selected_train, selected_test = get_stats(train, test, 'price', group_column='manager_id')"
   ]
  },
  {
   "cell_type": "code",
   "execution_count": 18,
   "metadata": {
    "collapsed": false
   },
   "outputs": [
    {
     "data": {
      "text/html": [
       "<div>\n",
       "<table border=\"1\" class=\"dataframe\">\n",
       "  <thead>\n",
       "    <tr style=\"text-align: right;\">\n",
       "      <th></th>\n",
       "      <th>manager_id</th>\n",
       "      <th>price_size</th>\n",
       "      <th>price_mean</th>\n",
       "      <th>price_std</th>\n",
       "      <th>price_median</th>\n",
       "      <th>price_max</th>\n",
       "      <th>price_min</th>\n",
       "    </tr>\n",
       "  </thead>\n",
       "  <tbody>\n",
       "    <tr>\n",
       "      <th>0</th>\n",
       "      <td>5ba989232d0489da1b5f2c45f6688adc</td>\n",
       "      <td>235</td>\n",
       "      <td>2541.914894</td>\n",
       "      <td>524.703572</td>\n",
       "      <td>2600.0</td>\n",
       "      <td>4400</td>\n",
       "      <td>1700</td>\n",
       "    </tr>\n",
       "    <tr>\n",
       "      <th>235</th>\n",
       "      <td>7533621a882f71e25173b27e3139d83d</td>\n",
       "      <td>194</td>\n",
       "      <td>5419.932990</td>\n",
       "      <td>1905.188512</td>\n",
       "      <td>4700.0</td>\n",
       "      <td>12995</td>\n",
       "      <td>1995</td>\n",
       "    </tr>\n",
       "    <tr>\n",
       "      <th>429</th>\n",
       "      <td>d9039c43983f6e564b1482b273bd7b01</td>\n",
       "      <td>314</td>\n",
       "      <td>3618.716561</td>\n",
       "      <td>1318.133209</td>\n",
       "      <td>3295.0</td>\n",
       "      <td>8795</td>\n",
       "      <td>1650</td>\n",
       "    </tr>\n",
       "    <tr>\n",
       "      <th>743</th>\n",
       "      <td>1067e078446a7897d2da493d2f741316</td>\n",
       "      <td>470</td>\n",
       "      <td>3701.768085</td>\n",
       "      <td>1392.090938</td>\n",
       "      <td>3450.0</td>\n",
       "      <td>11100</td>\n",
       "      <td>1650</td>\n",
       "    </tr>\n",
       "    <tr>\n",
       "      <th>1213</th>\n",
       "      <td>98e13ad4b495b9613cef886d79a6291f</td>\n",
       "      <td>51</td>\n",
       "      <td>3114.901961</td>\n",
       "      <td>1328.458765</td>\n",
       "      <td>2870.0</td>\n",
       "      <td>7995</td>\n",
       "      <td>1495</td>\n",
       "    </tr>\n",
       "  </tbody>\n",
       "</table>\n",
       "</div>"
      ],
      "text/plain": [
       "                            manager_id  price_size   price_mean    price_std  \\\n",
       "0     5ba989232d0489da1b5f2c45f6688adc         235  2541.914894   524.703572   \n",
       "235   7533621a882f71e25173b27e3139d83d         194  5419.932990  1905.188512   \n",
       "429   d9039c43983f6e564b1482b273bd7b01         314  3618.716561  1318.133209   \n",
       "743   1067e078446a7897d2da493d2f741316         470  3701.768085  1392.090938   \n",
       "1213  98e13ad4b495b9613cef886d79a6291f          51  3114.901961  1328.458765   \n",
       "\n",
       "      price_median  price_max  price_min  \n",
       "0           2600.0       4400       1700  \n",
       "235         4700.0      12995       1995  \n",
       "429         3295.0       8795       1650  \n",
       "743         3450.0      11100       1650  \n",
       "1213        2870.0       7995       1495  "
      ]
     },
     "execution_count": 18,
     "metadata": {},
     "output_type": "execute_result"
    }
   ],
   "source": [
    "selected_train.head()"
   ]
  },
  {
   "cell_type": "code",
   "execution_count": 19,
   "metadata": {
    "collapsed": false
   },
   "outputs": [
    {
     "data": {
      "text/html": [
       "<div>\n",
       "<table border=\"1\" class=\"dataframe\">\n",
       "  <thead>\n",
       "    <tr style=\"text-align: right;\">\n",
       "      <th></th>\n",
       "      <th>manager_id</th>\n",
       "      <th>interest_level</th>\n",
       "    </tr>\n",
       "  </thead>\n",
       "  <tbody>\n",
       "    <tr>\n",
       "      <th>10</th>\n",
       "      <td>5ba989232d0489da1b5f2c45f6688adc</td>\n",
       "      <td>medium</td>\n",
       "    </tr>\n",
       "    <tr>\n",
       "      <th>10000</th>\n",
       "      <td>7533621a882f71e25173b27e3139d83d</td>\n",
       "      <td>low</td>\n",
       "    </tr>\n",
       "    <tr>\n",
       "      <th>100004</th>\n",
       "      <td>d9039c43983f6e564b1482b273bd7b01</td>\n",
       "      <td>high</td>\n",
       "    </tr>\n",
       "    <tr>\n",
       "      <th>100007</th>\n",
       "      <td>1067e078446a7897d2da493d2f741316</td>\n",
       "      <td>low</td>\n",
       "    </tr>\n",
       "    <tr>\n",
       "      <th>100013</th>\n",
       "      <td>98e13ad4b495b9613cef886d79a6291f</td>\n",
       "      <td>low</td>\n",
       "    </tr>\n",
       "  </tbody>\n",
       "</table>\n",
       "</div>"
      ],
      "text/plain": [
       "                              manager_id interest_level\n",
       "10      5ba989232d0489da1b5f2c45f6688adc         medium\n",
       "10000   7533621a882f71e25173b27e3139d83d            low\n",
       "100004  d9039c43983f6e564b1482b273bd7b01           high\n",
       "100007  1067e078446a7897d2da493d2f741316            low\n",
       "100013  98e13ad4b495b9613cef886d79a6291f            low"
      ]
     },
     "execution_count": 19,
     "metadata": {},
     "output_type": "execute_result"
    }
   ],
   "source": [
    "train[['manager_id', 'interest_level']].head()"
   ]
  },
  {
   "cell_type": "code",
   "execution_count": null,
   "metadata": {
    "collapsed": true
   },
   "outputs": [],
   "source": []
  },
  {
   "cell_type": "code",
   "execution_count": 59,
   "metadata": {
    "collapsed": false
   },
   "outputs": [],
   "source": [
    "selected_manager_id_proj = ['bathrooms', 'bedrooms', 'listing_id']\n",
    "\n",
    "for target_col in selected_manager_id_proj:\n",
    "    tmp_train, tmp_test = get_stats(train_df, test_df, target_column=target_col)\n",
    "    train_stack = pd.merge(train_stack, tmp_train)\n",
    "#     train_stack_list.append(tmp_train)\n",
    "#     test_stack_list.append(tmp_test)"
   ]
  },
  {
   "cell_type": "code",
   "execution_count": null,
   "metadata": {
    "collapsed": true
   },
   "outputs": [],
   "source": []
  },
  {
   "cell_type": "code",
   "execution_count": 60,
   "metadata": {
    "collapsed": false
   },
   "outputs": [
    {
     "data": {
      "text/html": [
       "<div>\n",
       "<table border=\"1\" class=\"dataframe\">\n",
       "  <thead>\n",
       "    <tr style=\"text-align: right;\">\n",
       "      <th></th>\n",
       "      <th>row_id</th>\n",
       "      <th>bathrooms_size</th>\n",
       "      <th>bathrooms_mean</th>\n",
       "      <th>bathrooms_std</th>\n",
       "      <th>bathrooms_median</th>\n",
       "      <th>bathrooms_max</th>\n",
       "      <th>bathrooms_min</th>\n",
       "      <th>bedrooms_size</th>\n",
       "      <th>bedrooms_mean</th>\n",
       "      <th>bedrooms_std</th>\n",
       "      <th>bedrooms_median</th>\n",
       "      <th>bedrooms_max</th>\n",
       "      <th>bedrooms_min</th>\n",
       "      <th>listing_id_size</th>\n",
       "      <th>listing_id_mean</th>\n",
       "      <th>listing_id_std</th>\n",
       "      <th>listing_id_median</th>\n",
       "      <th>listing_id_max</th>\n",
       "      <th>listing_id_min</th>\n",
       "      <th>manager_id</th>\n",
       "    </tr>\n",
       "  </thead>\n",
       "  <tbody>\n",
       "    <tr>\n",
       "      <th>0</th>\n",
       "      <td>0</td>\n",
       "      <td>235</td>\n",
       "      <td>1.106383</td>\n",
       "      <td>0.305508</td>\n",
       "      <td>1.0</td>\n",
       "      <td>2.0</td>\n",
       "      <td>1.0</td>\n",
       "      <td>235</td>\n",
       "      <td>1.502128</td>\n",
       "      <td>0.935412</td>\n",
       "      <td>1.0</td>\n",
       "      <td>4</td>\n",
       "      <td>0</td>\n",
       "      <td>235</td>\n",
       "      <td>7031766</td>\n",
       "      <td>125976.544428</td>\n",
       "      <td>7050454</td>\n",
       "      <td>7226750</td>\n",
       "      <td>6814711</td>\n",
       "      <td>5ba989232d0489da1b5f2c45f6688adc</td>\n",
       "    </tr>\n",
       "    <tr>\n",
       "      <th>1</th>\n",
       "      <td>1</td>\n",
       "      <td>194</td>\n",
       "      <td>1.360825</td>\n",
       "      <td>0.544603</td>\n",
       "      <td>1.0</td>\n",
       "      <td>3.5</td>\n",
       "      <td>0.0</td>\n",
       "      <td>194</td>\n",
       "      <td>1.623711</td>\n",
       "      <td>0.831787</td>\n",
       "      <td>1.0</td>\n",
       "      <td>5</td>\n",
       "      <td>0</td>\n",
       "      <td>194</td>\n",
       "      <td>7120468</td>\n",
       "      <td>74552.553594</td>\n",
       "      <td>7146956</td>\n",
       "      <td>7231089</td>\n",
       "      <td>7011029</td>\n",
       "      <td>7533621a882f71e25173b27e3139d83d</td>\n",
       "    </tr>\n",
       "  </tbody>\n",
       "</table>\n",
       "</div>"
      ],
      "text/plain": [
       "   row_id  bathrooms_size  bathrooms_mean  bathrooms_std  bathrooms_median  \\\n",
       "0       0             235        1.106383       0.305508               1.0   \n",
       "1       1             194        1.360825       0.544603               1.0   \n",
       "\n",
       "   bathrooms_max  bathrooms_min  bedrooms_size  bedrooms_mean  bedrooms_std  \\\n",
       "0            2.0            1.0            235       1.502128      0.935412   \n",
       "1            3.5            0.0            194       1.623711      0.831787   \n",
       "\n",
       "   bedrooms_median  bedrooms_max  bedrooms_min  listing_id_size  \\\n",
       "0              1.0             4             0              235   \n",
       "1              1.0             5             0              194   \n",
       "\n",
       "   listing_id_mean  listing_id_std  listing_id_median  listing_id_max  \\\n",
       "0          7031766   125976.544428            7050454         7226750   \n",
       "1          7120468    74552.553594            7146956         7231089   \n",
       "\n",
       "   listing_id_min                        manager_id  \n",
       "0         6814711  5ba989232d0489da1b5f2c45f6688adc  \n",
       "1         7011029  7533621a882f71e25173b27e3139d83d  "
      ]
     },
     "execution_count": 60,
     "metadata": {},
     "output_type": "execute_result"
    }
   ],
   "source": [
    "train_stack.head(2)"
   ]
  },
  {
   "cell_type": "code",
   "execution_count": 67,
   "metadata": {
    "collapsed": false
   },
   "outputs": [
    {
     "data": {
      "text/html": [
       "<div>\n",
       "<table border=\"1\" class=\"dataframe\">\n",
       "  <thead>\n",
       "    <tr style=\"text-align: right;\">\n",
       "      <th></th>\n",
       "      <th>index</th>\n",
       "      <th>bathrooms</th>\n",
       "      <th>bedrooms</th>\n",
       "      <th>building_id</th>\n",
       "      <th>created</th>\n",
       "      <th>description</th>\n",
       "      <th>display_address</th>\n",
       "      <th>features</th>\n",
       "      <th>interest_level</th>\n",
       "      <th>latitude</th>\n",
       "      <th>listing_id</th>\n",
       "      <th>longitude</th>\n",
       "      <th>manager_id</th>\n",
       "      <th>photos</th>\n",
       "      <th>price</th>\n",
       "      <th>street_address</th>\n",
       "      <th>row_id</th>\n",
       "      <th>train</th>\n",
       "    </tr>\n",
       "  </thead>\n",
       "  <tbody>\n",
       "    <tr>\n",
       "      <th>0</th>\n",
       "      <td>10</td>\n",
       "      <td>1.5</td>\n",
       "      <td>3</td>\n",
       "      <td>53a5b119ba8f7b61d4e010512e0dfc85</td>\n",
       "      <td>2016-06-24 07:54:24</td>\n",
       "      <td>A Brand New 3 Bedroom 1.5 bath ApartmentEnjoy ...</td>\n",
       "      <td>Metropolitan Avenue</td>\n",
       "      <td>[]</td>\n",
       "      <td>medium</td>\n",
       "      <td>40.7145</td>\n",
       "      <td>7211212</td>\n",
       "      <td>-73.9425</td>\n",
       "      <td>5ba989232d0489da1b5f2c45f6688adc</td>\n",
       "      <td>[https://photos.renthop.com/2/7211212_1ed4542e...</td>\n",
       "      <td>3000</td>\n",
       "      <td>792 Metropolitan Avenue</td>\n",
       "      <td>0</td>\n",
       "      <td>1</td>\n",
       "    </tr>\n",
       "  </tbody>\n",
       "</table>\n",
       "</div>"
      ],
      "text/plain": [
       "   index  bathrooms  bedrooms                       building_id  \\\n",
       "0     10        1.5         3  53a5b119ba8f7b61d4e010512e0dfc85   \n",
       "\n",
       "               created                                        description  \\\n",
       "0  2016-06-24 07:54:24  A Brand New 3 Bedroom 1.5 bath ApartmentEnjoy ...   \n",
       "\n",
       "       display_address features interest_level  latitude  listing_id  \\\n",
       "0  Metropolitan Avenue       []         medium   40.7145     7211212   \n",
       "\n",
       "   longitude                        manager_id  \\\n",
       "0   -73.9425  5ba989232d0489da1b5f2c45f6688adc   \n",
       "\n",
       "                                              photos  price  \\\n",
       "0  [https://photos.renthop.com/2/7211212_1ed4542e...   3000   \n",
       "\n",
       "            street_address  row_id  train  \n",
       "0  792 Metropolitan Avenue       0      1  "
      ]
     },
     "execution_count": 67,
     "metadata": {},
     "output_type": "execute_result"
    }
   ],
   "source": [
    "train_df_index = train_df.reset_index()\n",
    "train_df_index.head(1)"
   ]
  },
  {
   "cell_type": "code",
   "execution_count": 74,
   "metadata": {
    "collapsed": false
   },
   "outputs": [
    {
     "data": {
      "text/plain": [
       "49350    9fd3af5b2d23951e028059e8940a55d7\n",
       "49351    d7f57128272bfd82e33a61999b5f4c42\n",
       "Name: manager_id, dtype: object"
      ]
     },
     "execution_count": 74,
     "metadata": {},
     "output_type": "execute_result"
    }
   ],
   "source": [
    "train_stack.manager_id.tail(2)"
   ]
  },
  {
   "cell_type": "code",
   "execution_count": 73,
   "metadata": {
    "collapsed": false
   },
   "outputs": [
    {
     "data": {
      "text/plain": [
       "49350    9fd3af5b2d23951e028059e8940a55d7\n",
       "49351    d7f57128272bfd82e33a61999b5f4c42\n",
       "Name: manager_id, dtype: object"
      ]
     },
     "execution_count": 73,
     "metadata": {},
     "output_type": "execute_result"
    }
   ],
   "source": [
    "train_df_index.manager_id.tail(2)"
   ]
  },
  {
   "cell_type": "code",
   "execution_count": 77,
   "metadata": {
    "collapsed": false,
    "scrolled": true
   },
   "outputs": [
    {
     "data": {
      "text/plain": [
       "49352"
      ]
     },
     "execution_count": 77,
     "metadata": {},
     "output_type": "execute_result"
    }
   ],
   "source": [
    "sum(train_stack.manager_id.values == train_df.manager_id.values)"
   ]
  },
  {
   "cell_type": "code",
   "execution_count": null,
   "metadata": {
    "collapsed": true
   },
   "outputs": [],
   "source": []
  },
  {
   "cell_type": "code",
   "execution_count": null,
   "metadata": {
    "collapsed": true
   },
   "outputs": [],
   "source": [
    "selected_manager_id_proj = ['bathrooms', 'bedrooms', 'latitude', 'longitude', 'price', 'bad_addr', 'listing_id',\n",
    "                   'month', 'day', 'weekday', 'day_of_year', 'hour', 'num_features', 'num_desc',\n",
    "                   'bed_to_bath', 'price_per_bed', 'price_per_bath', 'bldg_count', 'zero_bldg', 'total_room', 'room_diff',\n",
    "                   'photo_count', 'latitude_grid', 'longitude_grid', 'lat_long_grid']\n",
    "\n",
    "for target_col in selected_manager_id_proj:\n",
    "    tmp_train, tmp_test = get_stats(train_df, test_df, target_column=target_col)\n",
    "    train_stack_list.append(tmp_train)\n",
    "    test_stack_list.append(tmp_test)\n",
    "\n",
    "selected_bedrooms_proj = ['price', 'listing_id', 'month', 'day', 'weekday', 'day_of_year', 'hour', 'num_features', 'bldg_count', 'zero_bldg']\n",
    "\n",
    "for target_col in selected_bedrooms_proj:\n",
    "    tmp_train, tmp_test = get_stats(train_df, test_df, target_column=target_col, group_column='bedrooms')\n",
    "    train_stack_list.append(tmp_train)\n",
    "    test_stack_list.append(tmp_test)"
   ]
  }
 ],
 "metadata": {
  "kernelspec": {
   "display_name": "Python [default]",
   "language": "python",
   "name": "python3"
  },
  "language_info": {
   "codemirror_mode": {
    "name": "ipython",
    "version": 3
   },
   "file_extension": ".py",
   "mimetype": "text/x-python",
   "name": "python",
   "nbconvert_exporter": "python",
   "pygments_lexer": "ipython3",
   "version": "3.5.2"
  }
 },
 "nbformat": 4,
 "nbformat_minor": 2
}
