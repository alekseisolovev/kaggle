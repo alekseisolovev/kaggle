{
 "cells": [
  {
   "cell_type": "markdown",
   "metadata": {},
   "source": [
    "## Encoding Categorical Variables Using Statistics\n",
    "[Source](https://www.kaggle.com/c/two-sigma-connect-rental-listing-inquiries/discussion/32123)"
   ]
  },
  {
   "cell_type": "code",
   "execution_count": 1,
   "metadata": {
    "collapsed": false
   },
   "outputs": [
    {
     "name": "stdout",
     "output_type": "stream",
     "text": [
      "(49352, 15)\n",
      "(74659, 14)\n"
     ]
    }
   ],
   "source": [
    "import pandas as pd\n",
    "import warnings\n",
    "warnings.filterwarnings('ignore')\n",
    "\n",
    "train = pd.read_json('train.json')\n",
    "test = pd.read_json('test.json')\n",
    "print(train.shape)\n",
    "print(test.shape)"
   ]
  },
  {
   "cell_type": "code",
   "execution_count": 2,
   "metadata": {
    "collapsed": true
   },
   "outputs": [],
   "source": [
    "train['row_id'] = range(train.shape[0])\n",
    "test['row_id'] = range(test.shape[0])\n",
    "train['train'] = 1\n",
    "test['train'] = 0"
   ]
  },
  {
   "cell_type": "code",
   "execution_count": 3,
   "metadata": {
    "collapsed": false
   },
   "outputs": [
    {
     "data": {
      "text/html": [
       "<div>\n",
       "<table border=\"1\" class=\"dataframe\">\n",
       "  <thead>\n",
       "    <tr style=\"text-align: right;\">\n",
       "      <th></th>\n",
       "      <th>row_id</th>\n",
       "      <th>train</th>\n",
       "      <th>price</th>\n",
       "      <th>manager_id</th>\n",
       "    </tr>\n",
       "  </thead>\n",
       "  <tbody>\n",
       "    <tr>\n",
       "      <th>10</th>\n",
       "      <td>0</td>\n",
       "      <td>1</td>\n",
       "      <td>3000</td>\n",
       "      <td>5ba989232d0489da1b5f2c45f6688adc</td>\n",
       "    </tr>\n",
       "    <tr>\n",
       "      <th>10000</th>\n",
       "      <td>1</td>\n",
       "      <td>1</td>\n",
       "      <td>5465</td>\n",
       "      <td>7533621a882f71e25173b27e3139d83d</td>\n",
       "    </tr>\n",
       "  </tbody>\n",
       "</table>\n",
       "</div>"
      ],
      "text/plain": [
       "       row_id  train  price                        manager_id\n",
       "10          0      1   3000  5ba989232d0489da1b5f2c45f6688adc\n",
       "10000       1      1   5465  7533621a882f71e25173b27e3139d83d"
      ]
     },
     "execution_count": 3,
     "metadata": {},
     "output_type": "execute_result"
    }
   ],
   "source": [
    "target_column = 'price'\n",
    "group_column = 'manager_id'\n",
    "\n",
    "data = train[['row_id', 'train', target_column, group_column]].append(\n",
    "    test[['row_id','train', target_column, group_column]])\n",
    "data.head(2)"
   ]
  },
  {
   "cell_type": "code",
   "execution_count": 4,
   "metadata": {
    "collapsed": false
   },
   "outputs": [
    {
     "data": {
      "text/plain": [
       "(124011, 4)"
      ]
     },
     "execution_count": 4,
     "metadata": {},
     "output_type": "execute_result"
    }
   ],
   "source": [
    "data.shape"
   ]
  },
  {
   "cell_type": "code",
   "execution_count": 5,
   "metadata": {
    "collapsed": false
   },
   "outputs": [],
   "source": [
    "grouped = data[[target_column, group_column]].groupby(group_column)"
   ]
  },
  {
   "cell_type": "code",
   "execution_count": 6,
   "metadata": {
    "collapsed": false
   },
   "outputs": [
    {
     "data": {
      "text/plain": [
       "35"
      ]
     },
     "execution_count": 6,
     "metadata": {},
     "output_type": "execute_result"
    }
   ],
   "source": [
    "len(data.price[data.manager_id=='0000abd7518b94c35a90d64b56fbf3e6'])"
   ]
  },
  {
   "cell_type": "code",
   "execution_count": 7,
   "metadata": {
    "collapsed": false
   },
   "outputs": [
    {
     "data": {
      "text/html": [
       "<div>\n",
       "<table border=\"1\" class=\"dataframe\">\n",
       "  <thead>\n",
       "    <tr style=\"text-align: right;\">\n",
       "      <th></th>\n",
       "      <th>manager_id</th>\n",
       "      <th>price_size</th>\n",
       "    </tr>\n",
       "  </thead>\n",
       "  <tbody>\n",
       "    <tr>\n",
       "      <th>0</th>\n",
       "      <td>0000abd7518b94c35a90d64b56fbf3e6</td>\n",
       "      <td>35</td>\n",
       "    </tr>\n",
       "    <tr>\n",
       "      <th>1</th>\n",
       "      <td>001ce808ce1720e24a9510e014c69707</td>\n",
       "      <td>28</td>\n",
       "    </tr>\n",
       "  </tbody>\n",
       "</table>\n",
       "</div>"
      ],
      "text/plain": [
       "                         manager_id  price_size\n",
       "0  0000abd7518b94c35a90d64b56fbf3e6          35\n",
       "1  001ce808ce1720e24a9510e014c69707          28"
      ]
     },
     "execution_count": 7,
     "metadata": {},
     "output_type": "execute_result"
    }
   ],
   "source": [
    "the_size = pd.DataFrame(grouped.size()).reset_index()\n",
    "the_size.columns = [group_column, '%s_size' % target_column]\n",
    "the_size.head(2)"
   ]
  },
  {
   "cell_type": "code",
   "execution_count": 8,
   "metadata": {
    "collapsed": false
   },
   "outputs": [
    {
     "data": {
      "text/plain": [
       "2765.1714285714284"
      ]
     },
     "execution_count": 8,
     "metadata": {},
     "output_type": "execute_result"
    }
   ],
   "source": [
    "sum(data.price[data.manager_id=='0000abd7518b94c35a90d64b56fbf3e6']) / \\\n",
    "len(data.price[data.manager_id=='0000abd7518b94c35a90d64b56fbf3e6'])"
   ]
  },
  {
   "cell_type": "code",
   "execution_count": 9,
   "metadata": {
    "collapsed": false
   },
   "outputs": [
    {
     "data": {
      "text/html": [
       "<div>\n",
       "<table border=\"1\" class=\"dataframe\">\n",
       "  <thead>\n",
       "    <tr style=\"text-align: right;\">\n",
       "      <th></th>\n",
       "      <th>manager_id</th>\n",
       "      <th>price_mean</th>\n",
       "    </tr>\n",
       "  </thead>\n",
       "  <tbody>\n",
       "    <tr>\n",
       "      <th>0</th>\n",
       "      <td>0000abd7518b94c35a90d64b56fbf3e6</td>\n",
       "      <td>2765.171429</td>\n",
       "    </tr>\n",
       "    <tr>\n",
       "      <th>1</th>\n",
       "      <td>001ce808ce1720e24a9510e014c69707</td>\n",
       "      <td>3170.535714</td>\n",
       "    </tr>\n",
       "  </tbody>\n",
       "</table>\n",
       "</div>"
      ],
      "text/plain": [
       "                         manager_id   price_mean\n",
       "0  0000abd7518b94c35a90d64b56fbf3e6  2765.171429\n",
       "1  001ce808ce1720e24a9510e014c69707  3170.535714"
      ]
     },
     "execution_count": 9,
     "metadata": {},
     "output_type": "execute_result"
    }
   ],
   "source": [
    "the_mean = pd.DataFrame(grouped.mean()).reset_index()\n",
    "the_mean.columns = [group_column, '%s_mean' % target_column]\n",
    "the_mean.head(2)"
   ]
  },
  {
   "cell_type": "code",
   "execution_count": 10,
   "metadata": {
    "collapsed": false
   },
   "outputs": [],
   "source": [
    "the_std = pd.DataFrame(grouped.std()).reset_index().fillna(0)\n",
    "the_std.columns = [group_column, '%s_std' % target_column]\n",
    "the_median = pd.DataFrame(grouped.median()).reset_index()\n",
    "the_median.columns = [group_column, '%s_median' % target_column]\n",
    "the_max = pd.DataFrame(grouped.max()).reset_index()\n",
    "the_max.columns = [group_column, '%s_max' % target_column]\n",
    "the_min = pd.DataFrame(grouped.min()).reset_index()\n",
    "the_min.columns = [group_column, '%s_min' % target_column]"
   ]
  },
  {
   "cell_type": "code",
   "execution_count": 11,
   "metadata": {
    "collapsed": false
   },
   "outputs": [
    {
     "data": {
      "text/html": [
       "<div>\n",
       "<table border=\"1\" class=\"dataframe\">\n",
       "  <thead>\n",
       "    <tr style=\"text-align: right;\">\n",
       "      <th></th>\n",
       "      <th>manager_id</th>\n",
       "      <th>price_size</th>\n",
       "      <th>price_mean</th>\n",
       "      <th>price_std</th>\n",
       "      <th>price_median</th>\n",
       "      <th>price_max</th>\n",
       "      <th>price_min</th>\n",
       "    </tr>\n",
       "  </thead>\n",
       "  <tbody>\n",
       "    <tr>\n",
       "      <th>0</th>\n",
       "      <td>0000abd7518b94c35a90d64b56fbf3e6</td>\n",
       "      <td>35</td>\n",
       "      <td>2765.171429</td>\n",
       "      <td>532.174976</td>\n",
       "      <td>2695.0</td>\n",
       "      <td>4295</td>\n",
       "      <td>1995</td>\n",
       "    </tr>\n",
       "    <tr>\n",
       "      <th>1</th>\n",
       "      <td>001ce808ce1720e24a9510e014c69707</td>\n",
       "      <td>28</td>\n",
       "      <td>3170.535714</td>\n",
       "      <td>1116.447192</td>\n",
       "      <td>3000.0</td>\n",
       "      <td>6495</td>\n",
       "      <td>1795</td>\n",
       "    </tr>\n",
       "  </tbody>\n",
       "</table>\n",
       "</div>"
      ],
      "text/plain": [
       "                         manager_id  price_size   price_mean    price_std  \\\n",
       "0  0000abd7518b94c35a90d64b56fbf3e6          35  2765.171429   532.174976   \n",
       "1  001ce808ce1720e24a9510e014c69707          28  3170.535714  1116.447192   \n",
       "\n",
       "   price_median  price_max  price_min  \n",
       "0        2695.0       4295       1995  \n",
       "1        3000.0       6495       1795  "
      ]
     },
     "execution_count": 11,
     "metadata": {},
     "output_type": "execute_result"
    }
   ],
   "source": [
    "the_stats = pd.merge(the_size, the_mean).merge(the_std).merge(the_median).merge(the_max).merge(the_min)\n",
    "the_stats.head(2)"
   ]
  },
  {
   "cell_type": "code",
   "execution_count": 12,
   "metadata": {
    "collapsed": false
   },
   "outputs": [
    {
     "name": "stdout",
     "output_type": "stream",
     "text": [
      "(4399, 7)\n",
      "(124011, 4)\n"
     ]
    }
   ],
   "source": [
    "print(the_stats.shape)\n",
    "print(data.shape)"
   ]
  },
  {
   "cell_type": "code",
   "execution_count": 13,
   "metadata": {
    "collapsed": false
   },
   "outputs": [
    {
     "data": {
      "text/html": [
       "<div>\n",
       "<table border=\"1\" class=\"dataframe\">\n",
       "  <thead>\n",
       "    <tr style=\"text-align: right;\">\n",
       "      <th></th>\n",
       "      <th>row_id</th>\n",
       "      <th>train</th>\n",
       "      <th>price</th>\n",
       "      <th>manager_id</th>\n",
       "      <th>price_size</th>\n",
       "      <th>price_mean</th>\n",
       "      <th>price_std</th>\n",
       "      <th>price_median</th>\n",
       "      <th>price_max</th>\n",
       "      <th>price_min</th>\n",
       "    </tr>\n",
       "  </thead>\n",
       "  <tbody>\n",
       "    <tr>\n",
       "      <th>0</th>\n",
       "      <td>0</td>\n",
       "      <td>1</td>\n",
       "      <td>3000</td>\n",
       "      <td>5ba989232d0489da1b5f2c45f6688adc</td>\n",
       "      <td>235</td>\n",
       "      <td>2541.914894</td>\n",
       "      <td>524.703572</td>\n",
       "      <td>2600.0</td>\n",
       "      <td>4400</td>\n",
       "      <td>1700</td>\n",
       "    </tr>\n",
       "    <tr>\n",
       "      <th>1</th>\n",
       "      <td>107</td>\n",
       "      <td>1</td>\n",
       "      <td>2250</td>\n",
       "      <td>5ba989232d0489da1b5f2c45f6688adc</td>\n",
       "      <td>235</td>\n",
       "      <td>2541.914894</td>\n",
       "      <td>524.703572</td>\n",
       "      <td>2600.0</td>\n",
       "      <td>4400</td>\n",
       "      <td>1700</td>\n",
       "    </tr>\n",
       "    <tr>\n",
       "      <th>2</th>\n",
       "      <td>152</td>\n",
       "      <td>1</td>\n",
       "      <td>2200</td>\n",
       "      <td>5ba989232d0489da1b5f2c45f6688adc</td>\n",
       "      <td>235</td>\n",
       "      <td>2541.914894</td>\n",
       "      <td>524.703572</td>\n",
       "      <td>2600.0</td>\n",
       "      <td>4400</td>\n",
       "      <td>1700</td>\n",
       "    </tr>\n",
       "    <tr>\n",
       "      <th>3</th>\n",
       "      <td>572</td>\n",
       "      <td>1</td>\n",
       "      <td>1950</td>\n",
       "      <td>5ba989232d0489da1b5f2c45f6688adc</td>\n",
       "      <td>235</td>\n",
       "      <td>2541.914894</td>\n",
       "      <td>524.703572</td>\n",
       "      <td>2600.0</td>\n",
       "      <td>4400</td>\n",
       "      <td>1700</td>\n",
       "    </tr>\n",
       "    <tr>\n",
       "      <th>4</th>\n",
       "      <td>1198</td>\n",
       "      <td>1</td>\n",
       "      <td>2000</td>\n",
       "      <td>5ba989232d0489da1b5f2c45f6688adc</td>\n",
       "      <td>235</td>\n",
       "      <td>2541.914894</td>\n",
       "      <td>524.703572</td>\n",
       "      <td>2600.0</td>\n",
       "      <td>4400</td>\n",
       "      <td>1700</td>\n",
       "    </tr>\n",
       "  </tbody>\n",
       "</table>\n",
       "</div>"
      ],
      "text/plain": [
       "   row_id  train  price                        manager_id  price_size  \\\n",
       "0       0      1   3000  5ba989232d0489da1b5f2c45f6688adc         235   \n",
       "1     107      1   2250  5ba989232d0489da1b5f2c45f6688adc         235   \n",
       "2     152      1   2200  5ba989232d0489da1b5f2c45f6688adc         235   \n",
       "3     572      1   1950  5ba989232d0489da1b5f2c45f6688adc         235   \n",
       "4    1198      1   2000  5ba989232d0489da1b5f2c45f6688adc         235   \n",
       "\n",
       "    price_mean   price_std  price_median  price_max  price_min  \n",
       "0  2541.914894  524.703572        2600.0       4400       1700  \n",
       "1  2541.914894  524.703572        2600.0       4400       1700  \n",
       "2  2541.914894  524.703572        2600.0       4400       1700  \n",
       "3  2541.914894  524.703572        2600.0       4400       1700  \n",
       "4  2541.914894  524.703572        2600.0       4400       1700  "
      ]
     },
     "execution_count": 13,
     "metadata": {},
     "output_type": "execute_result"
    }
   ],
   "source": [
    "data = pd.merge(data, the_stats)\n",
    "data.head()"
   ]
  },
  {
   "cell_type": "code",
   "execution_count": 14,
   "metadata": {
    "collapsed": false
   },
   "outputs": [
    {
     "name": "stdout",
     "output_type": "stream",
     "text": [
      "(49352, 10)\n",
      "(74659, 10)\n"
     ]
    }
   ],
   "source": [
    "selected_train = data[data['train'] == 1]\n",
    "selected_test = data[data['train'] == 0]\n",
    "print(selected_train.shape)\n",
    "print(selected_test.shape)"
   ]
  },
  {
   "cell_type": "code",
   "execution_count": 15,
   "metadata": {
    "collapsed": true
   },
   "outputs": [],
   "source": [
    "selected_train.sort_values('row_id', inplace=True)\n",
    "selected_test.sort_values('row_id', inplace=True)"
   ]
  },
  {
   "cell_type": "code",
   "execution_count": 16,
   "metadata": {
    "collapsed": false
   },
   "outputs": [
    {
     "data": {
      "text/html": [
       "<div>\n",
       "<table border=\"1\" class=\"dataframe\">\n",
       "  <thead>\n",
       "    <tr style=\"text-align: right;\">\n",
       "      <th></th>\n",
       "      <th>row_id</th>\n",
       "      <th>train</th>\n",
       "      <th>price</th>\n",
       "      <th>manager_id</th>\n",
       "      <th>price_size</th>\n",
       "      <th>price_mean</th>\n",
       "      <th>price_std</th>\n",
       "      <th>price_median</th>\n",
       "      <th>price_max</th>\n",
       "      <th>price_min</th>\n",
       "    </tr>\n",
       "  </thead>\n",
       "  <tbody>\n",
       "    <tr>\n",
       "      <th>0</th>\n",
       "      <td>0</td>\n",
       "      <td>1</td>\n",
       "      <td>3000</td>\n",
       "      <td>5ba989232d0489da1b5f2c45f6688adc</td>\n",
       "      <td>235</td>\n",
       "      <td>2541.914894</td>\n",
       "      <td>524.703572</td>\n",
       "      <td>2600.0</td>\n",
       "      <td>4400</td>\n",
       "      <td>1700</td>\n",
       "    </tr>\n",
       "    <tr>\n",
       "      <th>235</th>\n",
       "      <td>1</td>\n",
       "      <td>1</td>\n",
       "      <td>5465</td>\n",
       "      <td>7533621a882f71e25173b27e3139d83d</td>\n",
       "      <td>194</td>\n",
       "      <td>5419.932990</td>\n",
       "      <td>1905.188512</td>\n",
       "      <td>4700.0</td>\n",
       "      <td>12995</td>\n",
       "      <td>1995</td>\n",
       "    </tr>\n",
       "    <tr>\n",
       "      <th>429</th>\n",
       "      <td>2</td>\n",
       "      <td>1</td>\n",
       "      <td>2850</td>\n",
       "      <td>d9039c43983f6e564b1482b273bd7b01</td>\n",
       "      <td>314</td>\n",
       "      <td>3618.716561</td>\n",
       "      <td>1318.133209</td>\n",
       "      <td>3295.0</td>\n",
       "      <td>8795</td>\n",
       "      <td>1650</td>\n",
       "    </tr>\n",
       "    <tr>\n",
       "      <th>743</th>\n",
       "      <td>3</td>\n",
       "      <td>1</td>\n",
       "      <td>3275</td>\n",
       "      <td>1067e078446a7897d2da493d2f741316</td>\n",
       "      <td>470</td>\n",
       "      <td>3701.768085</td>\n",
       "      <td>1392.090938</td>\n",
       "      <td>3450.0</td>\n",
       "      <td>11100</td>\n",
       "      <td>1650</td>\n",
       "    </tr>\n",
       "    <tr>\n",
       "      <th>1213</th>\n",
       "      <td>4</td>\n",
       "      <td>1</td>\n",
       "      <td>3350</td>\n",
       "      <td>98e13ad4b495b9613cef886d79a6291f</td>\n",
       "      <td>51</td>\n",
       "      <td>3114.901961</td>\n",
       "      <td>1328.458765</td>\n",
       "      <td>2870.0</td>\n",
       "      <td>7995</td>\n",
       "      <td>1495</td>\n",
       "    </tr>\n",
       "  </tbody>\n",
       "</table>\n",
       "</div>"
      ],
      "text/plain": [
       "      row_id  train  price                        manager_id  price_size  \\\n",
       "0          0      1   3000  5ba989232d0489da1b5f2c45f6688adc         235   \n",
       "235        1      1   5465  7533621a882f71e25173b27e3139d83d         194   \n",
       "429        2      1   2850  d9039c43983f6e564b1482b273bd7b01         314   \n",
       "743        3      1   3275  1067e078446a7897d2da493d2f741316         470   \n",
       "1213       4      1   3350  98e13ad4b495b9613cef886d79a6291f          51   \n",
       "\n",
       "       price_mean    price_std  price_median  price_max  price_min  \n",
       "0     2541.914894   524.703572        2600.0       4400       1700  \n",
       "235   5419.932990  1905.188512        4700.0      12995       1995  \n",
       "429   3618.716561  1318.133209        3295.0       8795       1650  \n",
       "743   3701.768085  1392.090938        3450.0      11100       1650  \n",
       "1213  3114.901961  1328.458765        2870.0       7995       1495  "
      ]
     },
     "execution_count": 16,
     "metadata": {},
     "output_type": "execute_result"
    }
   ],
   "source": [
    "selected_train.head()"
   ]
  },
  {
   "cell_type": "code",
   "execution_count": 17,
   "metadata": {
    "collapsed": false
   },
   "outputs": [
    {
     "data": {
      "text/html": [
       "<div>\n",
       "<table border=\"1\" class=\"dataframe\">\n",
       "  <thead>\n",
       "    <tr style=\"text-align: right;\">\n",
       "      <th></th>\n",
       "      <th>row_id</th>\n",
       "      <th>manager_id</th>\n",
       "      <th>interest_level</th>\n",
       "    </tr>\n",
       "  </thead>\n",
       "  <tbody>\n",
       "    <tr>\n",
       "      <th>10</th>\n",
       "      <td>0</td>\n",
       "      <td>5ba989232d0489da1b5f2c45f6688adc</td>\n",
       "      <td>medium</td>\n",
       "    </tr>\n",
       "    <tr>\n",
       "      <th>10000</th>\n",
       "      <td>1</td>\n",
       "      <td>7533621a882f71e25173b27e3139d83d</td>\n",
       "      <td>low</td>\n",
       "    </tr>\n",
       "    <tr>\n",
       "      <th>100004</th>\n",
       "      <td>2</td>\n",
       "      <td>d9039c43983f6e564b1482b273bd7b01</td>\n",
       "      <td>high</td>\n",
       "    </tr>\n",
       "    <tr>\n",
       "      <th>100007</th>\n",
       "      <td>3</td>\n",
       "      <td>1067e078446a7897d2da493d2f741316</td>\n",
       "      <td>low</td>\n",
       "    </tr>\n",
       "    <tr>\n",
       "      <th>100013</th>\n",
       "      <td>4</td>\n",
       "      <td>98e13ad4b495b9613cef886d79a6291f</td>\n",
       "      <td>low</td>\n",
       "    </tr>\n",
       "  </tbody>\n",
       "</table>\n",
       "</div>"
      ],
      "text/plain": [
       "        row_id                        manager_id interest_level\n",
       "10           0  5ba989232d0489da1b5f2c45f6688adc         medium\n",
       "10000        1  7533621a882f71e25173b27e3139d83d            low\n",
       "100004       2  d9039c43983f6e564b1482b273bd7b01           high\n",
       "100007       3  1067e078446a7897d2da493d2f741316            low\n",
       "100013       4  98e13ad4b495b9613cef886d79a6291f            low"
      ]
     },
     "execution_count": 17,
     "metadata": {},
     "output_type": "execute_result"
    }
   ],
   "source": [
    "train[['row_id', 'manager_id', 'interest_level']].head()"
   ]
  },
  {
   "cell_type": "code",
   "execution_count": 18,
   "metadata": {
    "collapsed": false
   },
   "outputs": [],
   "source": [
    "selected_train.drop([target_column, group_column, 'row_id', 'train'], axis=1, inplace=True)\n",
    "selected_test.drop([target_column, group_column, 'row_id', 'train'], axis=1, inplace=True)"
   ]
  },
  {
   "cell_type": "code",
   "execution_count": 19,
   "metadata": {
    "collapsed": false
   },
   "outputs": [
    {
     "data": {
      "text/plain": [
       "(49352, 23)"
      ]
     },
     "execution_count": 19,
     "metadata": {},
     "output_type": "execute_result"
    }
   ],
   "source": [
    "train.reset_index(drop=True, inplace=True)\n",
    "test.reset_index(drop=True, inplace=True)\n",
    "selected_train.reset_index(drop=True, inplace=True)\n",
    "selected_test.reset_index(drop=True, inplace=True)\n",
    "\n",
    "train = pd.merge(train, selected_train, left_index=True, right_index=True)\n",
    "train.shape"
   ]
  },
  {
   "cell_type": "code",
   "execution_count": 28,
   "metadata": {
    "collapsed": false
   },
   "outputs": [],
   "source": [
    "train.manager_id = pd.factorize(train.manager_id)[0]"
   ]
  },
  {
   "cell_type": "code",
   "execution_count": 1,
   "metadata": {
    "collapsed": true
   },
   "outputs": [],
   "source": [
    "import numpy as np\n",
    "import pandas as pd\n",
    "\n",
    "import warnings\n",
    "warnings.filterwarnings('ignore')\n",
    "\n",
    "train = pd.read_json('train.json')\n",
    "test = pd.read_json('test.json')"
   ]
  },
  {
   "cell_type": "code",
   "execution_count": 34,
   "metadata": {
    "collapsed": true
   },
   "outputs": [],
   "source": [
    "def get_stats(train, test, target_column, group_column='manager_id'):\n",
    "    '''\n",
    "    target_column: numeric columns to group with (e.g. price, bedrooms, bathrooms)\n",
    "    group_column: categorical columns to group on (e.g. manager_id, building_id)\n",
    "    '''\n",
    "    train['row_id'] = range(train.shape[0])\n",
    "    test['row_id'] = range(test.shape[0])\n",
    "    train['train'] = 1\n",
    "    test['train'] = 0\n",
    "    data = train[['row_id', 'train', target_column, group_column]].append(\n",
    "        test[['row_id','train', target_column, group_column]])\n",
    "    \n",
    "    grouped = data[[target_column, group_column]].groupby(group_column)\n",
    "    the_size = pd.DataFrame(grouped.size()).reset_index()\n",
    "    the_size.columns = [group_column, '%s_size' % target_column]\n",
    "    the_mean = pd.DataFrame(grouped.mean()).reset_index()\n",
    "    the_mean.columns = [group_column, '%s_mean' % target_column]\n",
    "    the_std = pd.DataFrame(grouped.std()).reset_index().fillna(0)\n",
    "    the_std.columns = [group_column, '%s_std' % target_column]\n",
    "    the_median = pd.DataFrame(grouped.median()).reset_index()\n",
    "    the_median.columns = [group_column, '%s_median' % target_column]\n",
    "    the_max = pd.DataFrame(grouped.max()).reset_index()\n",
    "    the_max.columns = [group_column, '%s_max' % target_column]\n",
    "    the_min = pd.DataFrame(grouped.min()).reset_index()\n",
    "    the_min.columns = [group_column, '%s_min' % target_column]\n",
    "    \n",
    "    the_stats = pd.merge(\n",
    "        the_size, the_mean).merge(the_std).merge(the_median).merge(the_max).merge(the_min)\n",
    "\n",
    "    data = pd.merge(data, the_stats)\n",
    "\n",
    "    selected_train = data[data['train'] == 1]\n",
    "    selected_test = data[data['train'] == 0]\n",
    "    selected_train.sort_values('row_id', inplace=True)\n",
    "    selected_test.sort_values('row_id', inplace=True)\n",
    "    selected_train.drop([target_column, group_column, 'row_id', 'train'], axis=1, inplace=True)\n",
    "    selected_test.drop([target_column, group_column, 'row_id', 'train'], axis=1, inplace=True)\n",
    "    selected_train.reset_index(drop=True, inplace=True)\n",
    "    selected_test.reset_index(drop=True, inplace=True)\n",
    "\n",
    "    return selected_train, selected_test"
   ]
  },
  {
   "cell_type": "code",
   "execution_count": 35,
   "metadata": {
    "collapsed": false
   },
   "outputs": [],
   "source": [
    "selected_train, selected_test = get_stats(train, test, 'price', group_column='manager_id')"
   ]
  },
  {
   "cell_type": "code",
   "execution_count": 36,
   "metadata": {
    "collapsed": false
   },
   "outputs": [
    {
     "data": {
      "text/html": [
       "<div>\n",
       "<table border=\"1\" class=\"dataframe\">\n",
       "  <thead>\n",
       "    <tr style=\"text-align: right;\">\n",
       "      <th></th>\n",
       "      <th>price_size</th>\n",
       "      <th>price_mean</th>\n",
       "      <th>price_std</th>\n",
       "      <th>price_median</th>\n",
       "      <th>price_max</th>\n",
       "      <th>price_min</th>\n",
       "    </tr>\n",
       "  </thead>\n",
       "  <tbody>\n",
       "    <tr>\n",
       "      <th>0</th>\n",
       "      <td>235</td>\n",
       "      <td>2541.914894</td>\n",
       "      <td>524.703572</td>\n",
       "      <td>2600.0</td>\n",
       "      <td>4400</td>\n",
       "      <td>1700</td>\n",
       "    </tr>\n",
       "    <tr>\n",
       "      <th>1</th>\n",
       "      <td>194</td>\n",
       "      <td>5419.932990</td>\n",
       "      <td>1905.188512</td>\n",
       "      <td>4700.0</td>\n",
       "      <td>12995</td>\n",
       "      <td>1995</td>\n",
       "    </tr>\n",
       "    <tr>\n",
       "      <th>2</th>\n",
       "      <td>314</td>\n",
       "      <td>3618.716561</td>\n",
       "      <td>1318.133209</td>\n",
       "      <td>3295.0</td>\n",
       "      <td>8795</td>\n",
       "      <td>1650</td>\n",
       "    </tr>\n",
       "    <tr>\n",
       "      <th>3</th>\n",
       "      <td>470</td>\n",
       "      <td>3701.768085</td>\n",
       "      <td>1392.090938</td>\n",
       "      <td>3450.0</td>\n",
       "      <td>11100</td>\n",
       "      <td>1650</td>\n",
       "    </tr>\n",
       "    <tr>\n",
       "      <th>4</th>\n",
       "      <td>51</td>\n",
       "      <td>3114.901961</td>\n",
       "      <td>1328.458765</td>\n",
       "      <td>2870.0</td>\n",
       "      <td>7995</td>\n",
       "      <td>1495</td>\n",
       "    </tr>\n",
       "  </tbody>\n",
       "</table>\n",
       "</div>"
      ],
      "text/plain": [
       "   price_size   price_mean    price_std  price_median  price_max  price_min\n",
       "0         235  2541.914894   524.703572        2600.0       4400       1700\n",
       "1         194  5419.932990  1905.188512        4700.0      12995       1995\n",
       "2         314  3618.716561  1318.133209        3295.0       8795       1650\n",
       "3         470  3701.768085  1392.090938        3450.0      11100       1650\n",
       "4          51  3114.901961  1328.458765        2870.0       7995       1495"
      ]
     },
     "execution_count": 36,
     "metadata": {},
     "output_type": "execute_result"
    }
   ],
   "source": [
    "selected_train.head()"
   ]
  },
  {
   "cell_type": "code",
   "execution_count": 37,
   "metadata": {
    "collapsed": false
   },
   "outputs": [
    {
     "data": {
      "text/html": [
       "<div>\n",
       "<table border=\"1\" class=\"dataframe\">\n",
       "  <thead>\n",
       "    <tr style=\"text-align: right;\">\n",
       "      <th></th>\n",
       "      <th>manager_id</th>\n",
       "      <th>interest_level</th>\n",
       "    </tr>\n",
       "  </thead>\n",
       "  <tbody>\n",
       "    <tr>\n",
       "      <th>10</th>\n",
       "      <td>5ba989232d0489da1b5f2c45f6688adc</td>\n",
       "      <td>medium</td>\n",
       "    </tr>\n",
       "    <tr>\n",
       "      <th>10000</th>\n",
       "      <td>7533621a882f71e25173b27e3139d83d</td>\n",
       "      <td>low</td>\n",
       "    </tr>\n",
       "    <tr>\n",
       "      <th>100004</th>\n",
       "      <td>d9039c43983f6e564b1482b273bd7b01</td>\n",
       "      <td>high</td>\n",
       "    </tr>\n",
       "    <tr>\n",
       "      <th>100007</th>\n",
       "      <td>1067e078446a7897d2da493d2f741316</td>\n",
       "      <td>low</td>\n",
       "    </tr>\n",
       "    <tr>\n",
       "      <th>100013</th>\n",
       "      <td>98e13ad4b495b9613cef886d79a6291f</td>\n",
       "      <td>low</td>\n",
       "    </tr>\n",
       "  </tbody>\n",
       "</table>\n",
       "</div>"
      ],
      "text/plain": [
       "                              manager_id interest_level\n",
       "10      5ba989232d0489da1b5f2c45f6688adc         medium\n",
       "10000   7533621a882f71e25173b27e3139d83d            low\n",
       "100004  d9039c43983f6e564b1482b273bd7b01           high\n",
       "100007  1067e078446a7897d2da493d2f741316            low\n",
       "100013  98e13ad4b495b9613cef886d79a6291f            low"
      ]
     },
     "execution_count": 37,
     "metadata": {},
     "output_type": "execute_result"
    }
   ],
   "source": [
    "train[['manager_id', 'interest_level']].head()"
   ]
  },
  {
   "cell_type": "code",
   "execution_count": 38,
   "metadata": {
    "collapsed": false
   },
   "outputs": [],
   "source": [
    "selected_manager_id_proj = ['bathrooms', 'bedrooms', 'listing_id']\n",
    "train_stack = train[['manager_id']]\n",
    "train_stack.reset_index(drop=True, inplace=True)\n",
    "\n",
    "for target_col in selected_manager_id_proj:\n",
    "    tmp_train, tmp_test = get_stats(train, test, target_column=target_col)\n",
    "    train_stack = pd.merge(train_stack, tmp_train, left_index=True, right_index=True)"
   ]
  },
  {
   "cell_type": "code",
   "execution_count": 40,
   "metadata": {
    "collapsed": false
   },
   "outputs": [
    {
     "data": {
      "text/html": [
       "<div>\n",
       "<table border=\"1\" class=\"dataframe\">\n",
       "  <thead>\n",
       "    <tr style=\"text-align: right;\">\n",
       "      <th></th>\n",
       "      <th>manager_id</th>\n",
       "      <th>bathrooms_size</th>\n",
       "      <th>bathrooms_mean</th>\n",
       "      <th>bathrooms_std</th>\n",
       "      <th>bathrooms_median</th>\n",
       "      <th>bathrooms_max</th>\n",
       "      <th>bathrooms_min</th>\n",
       "      <th>bedrooms_size</th>\n",
       "      <th>bedrooms_mean</th>\n",
       "      <th>bedrooms_std</th>\n",
       "      <th>bedrooms_median</th>\n",
       "      <th>bedrooms_max</th>\n",
       "      <th>bedrooms_min</th>\n",
       "      <th>listing_id_size</th>\n",
       "      <th>listing_id_mean</th>\n",
       "      <th>listing_id_std</th>\n",
       "      <th>listing_id_median</th>\n",
       "      <th>listing_id_max</th>\n",
       "      <th>listing_id_min</th>\n",
       "    </tr>\n",
       "  </thead>\n",
       "  <tbody>\n",
       "    <tr>\n",
       "      <th>0</th>\n",
       "      <td>5ba989232d0489da1b5f2c45f6688adc</td>\n",
       "      <td>235</td>\n",
       "      <td>1.106383</td>\n",
       "      <td>0.305508</td>\n",
       "      <td>1.0</td>\n",
       "      <td>2.0</td>\n",
       "      <td>1.0</td>\n",
       "      <td>235</td>\n",
       "      <td>1.502128</td>\n",
       "      <td>0.935412</td>\n",
       "      <td>1.0</td>\n",
       "      <td>4</td>\n",
       "      <td>0</td>\n",
       "      <td>235</td>\n",
       "      <td>7031766</td>\n",
       "      <td>125976.544428</td>\n",
       "      <td>7050454</td>\n",
       "      <td>7226750</td>\n",
       "      <td>6814711</td>\n",
       "    </tr>\n",
       "    <tr>\n",
       "      <th>1</th>\n",
       "      <td>7533621a882f71e25173b27e3139d83d</td>\n",
       "      <td>194</td>\n",
       "      <td>1.360825</td>\n",
       "      <td>0.544603</td>\n",
       "      <td>1.0</td>\n",
       "      <td>3.5</td>\n",
       "      <td>0.0</td>\n",
       "      <td>194</td>\n",
       "      <td>1.623711</td>\n",
       "      <td>0.831787</td>\n",
       "      <td>1.0</td>\n",
       "      <td>5</td>\n",
       "      <td>0</td>\n",
       "      <td>194</td>\n",
       "      <td>7120468</td>\n",
       "      <td>74552.553594</td>\n",
       "      <td>7146956</td>\n",
       "      <td>7231089</td>\n",
       "      <td>7011029</td>\n",
       "    </tr>\n",
       "    <tr>\n",
       "      <th>2</th>\n",
       "      <td>d9039c43983f6e564b1482b273bd7b01</td>\n",
       "      <td>314</td>\n",
       "      <td>1.136943</td>\n",
       "      <td>0.402117</td>\n",
       "      <td>1.0</td>\n",
       "      <td>4.0</td>\n",
       "      <td>1.0</td>\n",
       "      <td>314</td>\n",
       "      <td>1.646497</td>\n",
       "      <td>1.196055</td>\n",
       "      <td>1.0</td>\n",
       "      <td>5</td>\n",
       "      <td>0</td>\n",
       "      <td>314</td>\n",
       "      <td>7038196</td>\n",
       "      <td>152151.539263</td>\n",
       "      <td>7015751</td>\n",
       "      <td>7714547</td>\n",
       "      <td>6813410</td>\n",
       "    </tr>\n",
       "    <tr>\n",
       "      <th>3</th>\n",
       "      <td>1067e078446a7897d2da493d2f741316</td>\n",
       "      <td>470</td>\n",
       "      <td>1.157447</td>\n",
       "      <td>0.387295</td>\n",
       "      <td>1.0</td>\n",
       "      <td>3.5</td>\n",
       "      <td>1.0</td>\n",
       "      <td>470</td>\n",
       "      <td>1.485106</td>\n",
       "      <td>0.976696</td>\n",
       "      <td>1.0</td>\n",
       "      <td>6</td>\n",
       "      <td>0</td>\n",
       "      <td>470</td>\n",
       "      <td>6945694</td>\n",
       "      <td>95778.089245</td>\n",
       "      <td>6931886</td>\n",
       "      <td>7220934</td>\n",
       "      <td>6820184</td>\n",
       "    </tr>\n",
       "    <tr>\n",
       "      <th>4</th>\n",
       "      <td>98e13ad4b495b9613cef886d79a6291f</td>\n",
       "      <td>51</td>\n",
       "      <td>1.176471</td>\n",
       "      <td>0.385013</td>\n",
       "      <td>1.0</td>\n",
       "      <td>2.0</td>\n",
       "      <td>1.0</td>\n",
       "      <td>51</td>\n",
       "      <td>1.549020</td>\n",
       "      <td>1.316263</td>\n",
       "      <td>2.0</td>\n",
       "      <td>4</td>\n",
       "      <td>0</td>\n",
       "      <td>51</td>\n",
       "      <td>6945288</td>\n",
       "      <td>89410.430369</td>\n",
       "      <td>6923845</td>\n",
       "      <td>7220248</td>\n",
       "      <td>6828038</td>\n",
       "    </tr>\n",
       "  </tbody>\n",
       "</table>\n",
       "</div>"
      ],
      "text/plain": [
       "                         manager_id  bathrooms_size  bathrooms_mean  \\\n",
       "0  5ba989232d0489da1b5f2c45f6688adc             235        1.106383   \n",
       "1  7533621a882f71e25173b27e3139d83d             194        1.360825   \n",
       "2  d9039c43983f6e564b1482b273bd7b01             314        1.136943   \n",
       "3  1067e078446a7897d2da493d2f741316             470        1.157447   \n",
       "4  98e13ad4b495b9613cef886d79a6291f              51        1.176471   \n",
       "\n",
       "   bathrooms_std  bathrooms_median  bathrooms_max  bathrooms_min  \\\n",
       "0       0.305508               1.0            2.0            1.0   \n",
       "1       0.544603               1.0            3.5            0.0   \n",
       "2       0.402117               1.0            4.0            1.0   \n",
       "3       0.387295               1.0            3.5            1.0   \n",
       "4       0.385013               1.0            2.0            1.0   \n",
       "\n",
       "   bedrooms_size  bedrooms_mean  bedrooms_std  bedrooms_median  bedrooms_max  \\\n",
       "0            235       1.502128      0.935412              1.0             4   \n",
       "1            194       1.623711      0.831787              1.0             5   \n",
       "2            314       1.646497      1.196055              1.0             5   \n",
       "3            470       1.485106      0.976696              1.0             6   \n",
       "4             51       1.549020      1.316263              2.0             4   \n",
       "\n",
       "   bedrooms_min  listing_id_size  listing_id_mean  listing_id_std  \\\n",
       "0             0              235          7031766   125976.544428   \n",
       "1             0              194          7120468    74552.553594   \n",
       "2             0              314          7038196   152151.539263   \n",
       "3             0              470          6945694    95778.089245   \n",
       "4             0               51          6945288    89410.430369   \n",
       "\n",
       "   listing_id_median  listing_id_max  listing_id_min  \n",
       "0            7050454         7226750         6814711  \n",
       "1            7146956         7231089         7011029  \n",
       "2            7015751         7714547         6813410  \n",
       "3            6931886         7220934         6820184  \n",
       "4            6923845         7220248         6828038  "
      ]
     },
     "execution_count": 40,
     "metadata": {},
     "output_type": "execute_result"
    }
   ],
   "source": [
    "train_stack.head()"
   ]
  },
  {
   "cell_type": "code",
   "execution_count": null,
   "metadata": {
    "collapsed": true
   },
   "outputs": [],
   "source": [
    "selected_manager_id_proj = ['bathrooms', 'bedrooms', 'latitude', 'longitude', 'price', 'bad_addr', 'listing_id',\n",
    "                   'month', 'day', 'weekday', 'day_of_year', 'hour', 'num_features', 'num_desc',\n",
    "                   'bed_to_bath', 'price_per_bed', 'price_per_bath', 'bldg_count', 'zero_bldg', 'total_room', 'room_diff',\n",
    "                   'photo_count', 'latitude_grid', 'longitude_grid', 'lat_long_grid']\n",
    "\n",
    "for target_col in selected_manager_id_proj:\n",
    "    tmp_train, tmp_test = get_stats(train_df, test_df, target_column=target_col)\n",
    "    train_stack_list.append(tmp_train)\n",
    "    test_stack_list.append(tmp_test)\n",
    "\n",
    "selected_bedrooms_proj = ['price', 'listing_id', 'month', 'day', 'weekday', 'day_of_year', 'hour', 'num_features', 'bldg_count', 'zero_bldg']\n",
    "\n",
    "for target_col in selected_bedrooms_proj:\n",
    "    tmp_train, tmp_test = get_stats(train_df, test_df, target_column=target_col, group_column='bedrooms')\n",
    "    train_stack_list.append(tmp_train)\n",
    "    test_stack_list.append(tmp_test)"
   ]
  }
 ],
 "metadata": {
  "kernelspec": {
   "display_name": "Python [default]",
   "language": "python",
   "name": "python3"
  },
  "language_info": {
   "codemirror_mode": {
    "name": "ipython",
    "version": 3
   },
   "file_extension": ".py",
   "mimetype": "text/x-python",
   "name": "python",
   "nbconvert_exporter": "python",
   "pygments_lexer": "ipython3",
   "version": "3.5.2"
  }
 },
 "nbformat": 4,
 "nbformat_minor": 2
}
