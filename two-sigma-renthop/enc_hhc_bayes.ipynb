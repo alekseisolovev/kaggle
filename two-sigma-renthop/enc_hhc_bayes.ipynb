{
 "cells": [
  {
   "cell_type": "markdown",
   "metadata": {},
   "source": [
    "# Encoding High-Cardinality Categorical Data Using Empirical Bayes \n",
    "Article: \"A Preprocessing Scheme for High-Cardinality Categorical Attributes in Classification and Prediction Problems\" by Daniele Micci-Barreca\n",
    "    \n",
    "[Source](https://www.kaggle.com/rakhlin/two-sigma-connect-rental-listing-inquiries/another-python-version-of-it-is-lit-by-branden)"
   ]
  },
  {
   "cell_type": "code",
   "execution_count": 1,
   "metadata": {
    "collapsed": false
   },
   "outputs": [
    {
     "name": "stdout",
     "output_type": "stream",
     "text": [
      "(49352, 15)\n",
      "(74659, 14)\n"
     ]
    }
   ],
   "source": [
    "import numpy as np\n",
    "import pandas as pd\n",
    "from sklearn.model_selection import StratifiedKFold\n",
    "from itertools import product\n",
    "\n",
    "X_train = pd.read_json('train.json')\n",
    "X_test = pd.read_json('test.json')\n",
    "print(X_train.shape)\n",
    "print(X_test.shape)"
   ]
  },
  {
   "cell_type": "code",
   "execution_count": 2,
   "metadata": {
    "collapsed": true
   },
   "outputs": [],
   "source": [
    "# Make target integer, one hot encoded, calculate target priors\n",
    "X_train = X_train.replace({'interest_level': {'low': 0, 'medium': 1, 'high': 2}})\n",
    "X_train = X_train.join(pd.get_dummies(X_train['interest_level'], prefix='pred').astype(int))\n",
    "prior_0, prior_1, prior_2 = X_train[['pred_0', 'pred_1', 'pred_2']].mean()"
   ]
  },
  {
   "cell_type": "code",
   "execution_count": 3,
   "metadata": {
    "collapsed": false
   },
   "outputs": [
    {
     "data": {
      "text/html": [
       "<div>\n",
       "<table border=\"1\" class=\"dataframe\">\n",
       "  <thead>\n",
       "    <tr style=\"text-align: right;\">\n",
       "      <th></th>\n",
       "      <th>interest_level</th>\n",
       "      <th>pred_0</th>\n",
       "      <th>pred_1</th>\n",
       "      <th>pred_2</th>\n",
       "    </tr>\n",
       "  </thead>\n",
       "  <tbody>\n",
       "    <tr>\n",
       "      <th>10</th>\n",
       "      <td>1</td>\n",
       "      <td>0</td>\n",
       "      <td>1</td>\n",
       "      <td>0</td>\n",
       "    </tr>\n",
       "    <tr>\n",
       "      <th>10000</th>\n",
       "      <td>0</td>\n",
       "      <td>1</td>\n",
       "      <td>0</td>\n",
       "      <td>0</td>\n",
       "    </tr>\n",
       "  </tbody>\n",
       "</table>\n",
       "</div>"
      ],
      "text/plain": [
       "       interest_level  pred_0  pred_1  pred_2\n",
       "10                  1       0       1       0\n",
       "10000               0       1       0       0"
      ]
     },
     "execution_count": 3,
     "metadata": {},
     "output_type": "execute_result"
    }
   ],
   "source": [
    "X_train[['interest_level', 'pred_0', 'pred_1', 'pred_2']].head(2)"
   ]
  },
  {
   "cell_type": "code",
   "execution_count": 4,
   "metadata": {
    "collapsed": false
   },
   "outputs": [
    {
     "name": "stdout",
     "output_type": "stream",
     "text": [
      "0.694683092884\n",
      "0.227528772897\n",
      "0.0777881342195\n"
     ]
    }
   ],
   "source": [
    "print(prior_0)\n",
    "print(prior_1)\n",
    "print(prior_2)"
   ]
  },
  {
   "cell_type": "code",
   "execution_count": 5,
   "metadata": {
    "collapsed": true
   },
   "outputs": [],
   "source": [
    "def hcc_encode(X_train, X_test, variable, target, prior_prob, k, f=1, g=1, r_k=None, update_df=None):\n",
    "    hcc_name = '_'.join(['hcc', variable, target])\n",
    "\n",
    "    grouped = X_train.groupby(variable)[target].agg({'size': 'size', 'mean': 'mean'})\n",
    "    grouped['lambda'] = 1 / (g + np.exp((k - grouped['size']) / f))\n",
    "    grouped[hcc_name] = grouped['lambda'] * grouped['mean'] + (1 - grouped['lambda']) * prior_prob\n",
    "\n",
    "    df = X_test[[variable]].join(grouped, on=variable, how='left')[hcc_name].fillna(prior_prob)\n",
    "    if r_k: df *= np.random.uniform(1 - r_k, 1 + r_k, len(X_test)) # Add uniform noise. Not mentioned in original paper\n",
    "\n",
    "    if update_df is None: update_df = X_test\n",
    "    if hcc_name not in update_df.columns: update_df[hcc_name] = np.nan\n",
    "    update_df.update(df)\n",
    "    return"
   ]
  },
  {
   "cell_type": "code",
   "execution_count": 6,
   "metadata": {
    "collapsed": false
   },
   "outputs": [],
   "source": [
    "skf = StratifiedKFold(5)\n",
    "attributes = product(('building_id', 'manager_id'),\n",
    "                     zip(('pred_1', 'pred_2'), (prior_1, prior_2)))\n",
    "for variable, (target, prior) in attributes:\n",
    "    hcc_encode(X_train, X_test, variable, target, prior, k=5, r_k=None)\n",
    "    for train, test in skf.split(np.zeros(len(X_train)), X_train['interest_level']):\n",
    "        hcc_encode(X_train.iloc[train], X_train.iloc[test], variable, target, prior, k=5, r_k=0.01, update_df=X_train)"
   ]
  },
  {
   "cell_type": "code",
   "execution_count": 15,
   "metadata": {
    "collapsed": false
   },
   "outputs": [
    {
     "data": {
      "text/html": [
       "<div>\n",
       "<table border=\"1\" class=\"dataframe\">\n",
       "  <thead>\n",
       "    <tr style=\"text-align: right;\">\n",
       "      <th></th>\n",
       "      <th>pred_0</th>\n",
       "      <th>pred_1</th>\n",
       "      <th>pred_2</th>\n",
       "      <th>hcc_building_id_pred_1</th>\n",
       "      <th>hcc_building_id_pred_2</th>\n",
       "      <th>hcc_manager_id_pred_1</th>\n",
       "      <th>hcc_manager_id_pred_2</th>\n",
       "    </tr>\n",
       "  </thead>\n",
       "  <tbody>\n",
       "    <tr>\n",
       "      <th>10</th>\n",
       "      <td>0</td>\n",
       "      <td>1</td>\n",
       "      <td>0</td>\n",
       "      <td>0.218630</td>\n",
       "      <td>7.347387e-02</td>\n",
       "      <td>0.283531</td>\n",
       "      <td>0.000000</td>\n",
       "    </tr>\n",
       "    <tr>\n",
       "      <th>10000</th>\n",
       "      <td>1</td>\n",
       "      <td>0</td>\n",
       "      <td>0</td>\n",
       "      <td>0.112172</td>\n",
       "      <td>1.751504e-07</td>\n",
       "      <td>0.012516</td>\n",
       "      <td>0.000000</td>\n",
       "    </tr>\n",
       "    <tr>\n",
       "      <th>100004</th>\n",
       "      <td>0</td>\n",
       "      <td>0</td>\n",
       "      <td>1</td>\n",
       "      <td>0.461980</td>\n",
       "      <td>9.387320e-02</td>\n",
       "      <td>0.354482</td>\n",
       "      <td>0.031366</td>\n",
       "    </tr>\n",
       "    <tr>\n",
       "      <th>100007</th>\n",
       "      <td>1</td>\n",
       "      <td>0</td>\n",
       "      <td>0</td>\n",
       "      <td>0.095932</td>\n",
       "      <td>1.185935e-02</td>\n",
       "      <td>0.151803</td>\n",
       "      <td>0.084121</td>\n",
       "    </tr>\n",
       "    <tr>\n",
       "      <th>100013</th>\n",
       "      <td>1</td>\n",
       "      <td>0</td>\n",
       "      <td>0</td>\n",
       "      <td>0.059042</td>\n",
       "      <td>2.285231e-02</td>\n",
       "      <td>0.000565</td>\n",
       "      <td>0.000192</td>\n",
       "    </tr>\n",
       "  </tbody>\n",
       "</table>\n",
       "</div>"
      ],
      "text/plain": [
       "        pred_0  pred_1  pred_2  hcc_building_id_pred_1  \\\n",
       "10           0       1       0                0.218630   \n",
       "10000        1       0       0                0.112172   \n",
       "100004       0       0       1                0.461980   \n",
       "100007       1       0       0                0.095932   \n",
       "100013       1       0       0                0.059042   \n",
       "\n",
       "        hcc_building_id_pred_2  hcc_manager_id_pred_1  hcc_manager_id_pred_2  \n",
       "10                7.347387e-02               0.283531               0.000000  \n",
       "10000             1.751504e-07               0.012516               0.000000  \n",
       "100004            9.387320e-02               0.354482               0.031366  \n",
       "100007            1.185935e-02               0.151803               0.084121  \n",
       "100013            2.285231e-02               0.000565               0.000192  "
      ]
     },
     "execution_count": 15,
     "metadata": {},
     "output_type": "execute_result"
    }
   ],
   "source": [
    "X_train.iloc[:, -7:].head()"
   ]
  },
  {
   "cell_type": "code",
   "execution_count": null,
   "metadata": {
    "collapsed": true
   },
   "outputs": [],
   "source": []
  }
 ],
 "metadata": {
  "kernelspec": {
   "display_name": "Python [default]",
   "language": "python",
   "name": "python3"
  },
  "language_info": {
   "codemirror_mode": {
    "name": "ipython",
    "version": 3
   },
   "file_extension": ".py",
   "mimetype": "text/x-python",
   "name": "python",
   "nbconvert_exporter": "python",
   "pygments_lexer": "ipython3",
   "version": "3.5.2"
  }
 },
 "nbformat": 4,
 "nbformat_minor": 2
}
